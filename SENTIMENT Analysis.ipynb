{
 "cells": [
  {
   "cell_type": "markdown",
   "metadata": {},
   "source": [
    "# Disaster tweets comp: introduction to NLP\n",
    "\n",
    "The aim of this notebook is to classify tweets potentially related to catastrophes into real or misleading tweets. It may also serve as an introduction to Natural Language Processing (NLP), since it covers several data cleaning techniques and classification algorithms in order to conclude which combinations are the most succesfull.The spirit of this notebook is not to obtain a top LB score, but to learn how to deal with text data, decide which techniques are more suited for this project and why others are not recommended from a beginner perspective. \n",
    "\n",
    "Hope you enjoy it and, if you like this work, I'll be glad if you upvote it. Let's begin!\n",
    "\n",
    "\n",
    "**TABLE OF CONTENTS**\n",
    "\n",
    "1. [Bag of words (BOW)](#section1)\n",
    "\n",
    "    * [Load data](#section11)\n",
    "    \n",
    "    * [Brief EDA](#section12)\n",
    "    \n",
    "    * [BOW and logistic prediction regression](#section13)\n",
    "\n",
    "\n",
    "2. [Text data cleaning](#section2)\n",
    "\n",
    "    * [Lowercasing](#section21)\n",
    "    \n",
    "    * [Normalization](#section22)\n",
    "  \n",
    "    * [Stop-word removal](#section23)\n",
    "    \n",
    "    * [Lemmatization](#section24)\n",
    "\n",
    "\n",
    "3. [Term frequency - Inverse document frequency (TFIDF)](#section3)\n",
    "\n",
    "\n",
    "4. [Comparison of classification models](#section4)\n",
    "\n",
    "\n",
    "5. [Word embeddings](#section5)\n",
    "\n",
    "    * [Word embeddings](#section51)\n",
    "    \n",
    "    * [Linear SVC model](#section52)\n",
    "\n",
    "\n",
    "6. [Recurrent neural networks (RNN)](#section6)\n"
   ]
  },
  {
   "cell_type": "markdown",
   "metadata": {},
   "source": [
    "Import the required libraries:"
   ]
  },
  {
   "cell_type": "code",
   "execution_count": 1,
   "metadata": {
    "_cell_guid": "b1076dfc-b9ad-4769-8c92-a6c4dae69d19",
    "_kg_hide-input": true,
    "_kg_hide-output": true,
    "_uuid": "8f2839f25d086af736a60e9eeb907d3b93b6e0e5"
   },
   "outputs": [
    {
     "name": "stdout",
     "output_type": "stream",
     "text": [
      "Collecting pycontractions\r\n",
      "  Downloading pycontractions-2.0.1-py3-none-any.whl (9.6 kB)\r\n",
      "Requirement already satisfied: gensim>=2.0 in /opt/conda/lib/python3.6/site-packages (from pycontractions) (3.8.1)\r\n",
      "Requirement already satisfied: pyemd>=0.4.4 in /opt/conda/lib/python3.6/site-packages (from pycontractions) (0.5.1)\r\n",
      "Collecting language-check>=1.0\r\n",
      "  Downloading language-check-1.1.tar.gz (33 kB)\r\n",
      "Requirement already satisfied: scipy>=0.18.1 in /opt/conda/lib/python3.6/site-packages (from gensim>=2.0->pycontractions) (1.4.1)\r\n",
      "Requirement already satisfied: six>=1.5.0 in /opt/conda/lib/python3.6/site-packages (from gensim>=2.0->pycontractions) (1.14.0)\r\n",
      "Requirement already satisfied: numpy>=1.11.3 in /opt/conda/lib/python3.6/site-packages (from gensim>=2.0->pycontractions) (1.18.1)\r\n",
      "Requirement already satisfied: smart-open>=1.8.1 in /opt/conda/lib/python3.6/site-packages (from gensim>=2.0->pycontractions) (1.9.0)\r\n",
      "Requirement already satisfied: boto3 in /opt/conda/lib/python3.6/site-packages (from smart-open>=1.8.1->gensim>=2.0->pycontractions) (1.11.15)\r\n",
      "Requirement already satisfied: requests in /opt/conda/lib/python3.6/site-packages (from smart-open>=1.8.1->gensim>=2.0->pycontractions) (2.22.0)\r\n",
      "Requirement already satisfied: boto>=2.32 in /opt/conda/lib/python3.6/site-packages (from smart-open>=1.8.1->gensim>=2.0->pycontractions) (2.49.0)\r\n",
      "Requirement already satisfied: jmespath<1.0.0,>=0.7.1 in /opt/conda/lib/python3.6/site-packages (from boto3->smart-open>=1.8.1->gensim>=2.0->pycontractions) (0.9.4)\r\n",
      "Requirement already satisfied: s3transfer<0.4.0,>=0.3.0 in /opt/conda/lib/python3.6/site-packages (from boto3->smart-open>=1.8.1->gensim>=2.0->pycontractions) (0.3.3)\r\n",
      "Requirement already satisfied: botocore<1.15.0,>=1.14.15 in /opt/conda/lib/python3.6/site-packages (from boto3->smart-open>=1.8.1->gensim>=2.0->pycontractions) (1.14.15)\r\n",
      "Requirement already satisfied: certifi>=2017.4.17 in /opt/conda/lib/python3.6/site-packages (from requests->smart-open>=1.8.1->gensim>=2.0->pycontractions) (2019.11.28)\r\n",
      "Requirement already satisfied: urllib3!=1.25.0,!=1.25.1,<1.26,>=1.21.1 in /opt/conda/lib/python3.6/site-packages (from requests->smart-open>=1.8.1->gensim>=2.0->pycontractions) (1.25.8)\r\n",
      "Requirement already satisfied: chardet<3.1.0,>=3.0.2 in /opt/conda/lib/python3.6/site-packages (from requests->smart-open>=1.8.1->gensim>=2.0->pycontractions) (3.0.4)\r\n",
      "Requirement already satisfied: idna<2.9,>=2.5 in /opt/conda/lib/python3.6/site-packages (from requests->smart-open>=1.8.1->gensim>=2.0->pycontractions) (2.8)\r\n",
      "Requirement already satisfied: python-dateutil<3.0.0,>=2.1 in /opt/conda/lib/python3.6/site-packages (from botocore<1.15.0,>=1.14.15->boto3->smart-open>=1.8.1->gensim>=2.0->pycontractions) (2.8.1)\r\n",
      "Requirement already satisfied: docutils<0.16,>=0.10 in /opt/conda/lib/python3.6/site-packages (from botocore<1.15.0,>=1.14.15->boto3->smart-open>=1.8.1->gensim>=2.0->pycontractions) (0.15.2)\r\n",
      "Building wheels for collected packages: language-check\r\n",
      "  Building wheel for language-check (setup.py) ... \u001b[?25l-\b \b\\\b \b|\b \b/\b \b-\b \b\\\b \b|\b \b/\b \b-\b \b\\\b \b|\b \b/\b \b-\b \b\\\b \b|\b \b/\b \b-\b \b\\\b \b|\b \b/\b \b-\b \b\\\b \b|\b \b/\b \b-\b \b\\\b \b|\b \b/\b \b-\b \b\\\b \b|\b \b/\b \b-\b \b\\\b \b|\b \b/\b \b-\b \b\\\b \b|\b \b/\b \b-\b \b\\\b \b|\b \b/\b \b-\b \b\\\b \b|\b \b/\b \b-\b \b\\\b \b|\b \b/\b \b-\b \b\\\b \b|\b \bdone\r\n",
      "\u001b[?25h  Created wheel for language-check: filename=language_check-1.1-py3-none-any.whl size=90190895 sha256=ae69fc835ac4e6f6ae2bf5b90be720d2de05cefee1e452ff03f162e5de7de6cf\r\n",
      "  Stored in directory: /root/.cache/pip/wheels/ce/fe/32/3b83a67c4f1182f7f6aa134c1d04cdcd893072bdadb4f5a64c\r\n",
      "Successfully built language-check\r\n",
      "Installing collected packages: language-check, pycontractions\r\n",
      "Successfully installed language-check-1.1 pycontractions-2.0.1\r\n",
      "[======================----------------------------] 44.2% 46.3/104.8MB downloaded"
     ]
    }
   ],
   "source": [
    "# General libraries\n",
    "import numpy as np\n",
    "import pandas as pd\n",
    "import matplotlib.pyplot as plt\n",
    "import time\n",
    "import seaborn as sns\n",
    "\n",
    "# Libraries for data cleaning\n",
    "import unidecode\n",
    "import re\n",
    "import string\n",
    "!pip install pycontractions\n",
    "from pycontractions import Contractions\n",
    "import gensim.downloader as api\n",
    "# Choose model accordingly for contractions function\n",
    "model = api.load(\"glove-twitter-25\")\n",
    "# model = api.load(\"glove-twitter-100\")\n",
    "# model = api.load(\"word2vec-google-news-300\")\n",
    "cont = Contractions(kv_model=model)\n",
    "cont.load_models()\n",
    "import operator\n",
    "\n",
    "# NLP libraries\n",
    "import spacy\n",
    "from spacy.lang.en import English\n",
    "!pip install pyspellchecker\n",
    "from spellchecker import SpellChecker\n",
    "import nltk\n",
    "from nltk.corpus import stopwords\n",
    "\n",
    "# ML libraries\n",
    "from sklearn.svm import LinearSVC\n",
    "from sklearn.model_selection import train_test_split\n",
    "from sklearn.model_selection import cross_val_score\n",
    "from sklearn.feature_extraction.text import CountVectorizer, TfidfVectorizer\n",
    "from sklearn.metrics import accuracy_score, f1_score, precision_score, recall_score, classification_report\n",
    "from sklearn.linear_model import LogisticRegression\n",
    "from sklearn.naive_bayes import GaussianNB\n",
    "from sklearn.neighbors import KNeighborsClassifier\n",
    "from sklearn.ensemble import RandomForestClassifier\n",
    "from xgboost import XGBClassifier\n",
    "\n",
    "# NN libraries\n",
    "from keras.models import Sequential\n",
    "from keras.preprocessing.text import Tokenizer\n",
    "from keras.preprocessing import sequence\n",
    "from keras.models import Model\n",
    "from keras.layers import LSTM, Activation, Dense, Dropout, Input, Embedding\n",
    "from keras.utils import to_categorical\n",
    "from keras.preprocessing.sequence import pad_sequences\n",
    "from keras.optimizers import Adam\n",
    "from keras.callbacks import ModelCheckpoint"
   ]
  },
  {
   "cell_type": "code",
   "execution_count": 2,
   "metadata": {
    "_kg_hide-input": true,
    "_kg_hide-output": true
   },
   "outputs": [
    {
     "name": "stdout",
     "output_type": "stream",
     "text": [
      "/kaggle/input/nlp-getting-started/train.csv\n",
      "/kaggle/input/nlp-getting-started/test.csv\n",
      "/kaggle/input/nlp-getting-started/sample_submission.csv\n",
      "/kaggle/input/disaster-tweets-comp-introduction-to-nlp/tweets_clean\n",
      "/kaggle/input/disaster-tweets-comp-introduction-to-nlp/__results__.html\n",
      "/kaggle/input/disaster-tweets-comp-introduction-to-nlp/submission_svc_basic.csv\n",
      "/kaggle/input/disaster-tweets-comp-introduction-to-nlp/__output__.json\n",
      "/kaggle/input/disaster-tweets-comp-introduction-to-nlp/custom.css\n",
      "/kaggle/input/disaster-tweets-comp-introduction-to-nlp/tweets_lemmatized\n",
      "/kaggle/input/disaster-tweets-comp-introduction-to-nlp/__notebook__.ipynb\n",
      "/kaggle/input/disaster-tweets-comp-introduction-to-nlp/tweets_normalized\n",
      "/kaggle/input/disaster-tweets-comp-introduction-to-nlp/submission_logistic_basic.csv\n",
      "/kaggle/input/disaster-tweets-comp-introduction-to-nlp/tweets_lowercased\n",
      "/kaggle/input/disaster-tweets-comp-introduction-to-nlp/tweets_no_stopwords\n",
      "/kaggle/input/disaster-tweets-comp-introduction-to-nlp/__resultx__.html\n",
      "/kaggle/input/disaster-tweets-comp-introduction-to-nlp/__results___files/__results___8_3.png\n",
      "/kaggle/input/disaster-tweets-comp-introduction-to-nlp/__results___files/__results___10_1.png\n"
     ]
    }
   ],
   "source": [
    "# List of files (including output files)\n",
    "import os\n",
    "for dirname, _, filenames in os.walk('/kaggle/input'):\n",
    "    for filename in filenames:\n",
    "        print(os.path.join(dirname, filename))"
   ]
  },
  {
   "cell_type": "markdown",
   "metadata": {},
   "source": [
    "# 1. Bag of words (BOW) <a id=\"section1\"></a>\n",
    "\n",
    "A simple procedure when working with language data is to compute a **bag of words (BOW)**, that consists on creating one column for each word and keeping track of when they appear in the tweets. This will be our first approach given that it's a common technique in NLP projects, significantly fast and works fine without many data cleaning. \n",
    "\n",
    "Once the  BOW has been created, we will train a **logistic regression** model and evaluate the performance of the predictions.\n",
    "\n",
    "Steps in this section:\n",
    "* 1.1. Load data\n",
    "* 1.2. Brief EDA\n",
    "* 1.3. BOW and logistic regression prediction"
   ]
  },
  {
   "cell_type": "markdown",
   "metadata": {},
   "source": [
    "## 1.1. Load data <a id=\"section11\"></a>\n",
    "\n",
    "First of all, let's read the data and take a look on its structure."
   ]
  },
  {
   "cell_type": "code",
   "execution_count": 3,
   "metadata": {
    "_cell_guid": "",
    "_uuid": ""
   },
   "outputs": [
    {
     "name": "stdout",
     "output_type": "stream",
     "text": [
      "Train dataset size:  7613\n",
      "Test dataset size:  3263\n"
     ]
    },
    {
     "data": {
      "text/html": [
       "<div>\n",
       "<style scoped>\n",
       "    .dataframe tbody tr th:only-of-type {\n",
       "        vertical-align: middle;\n",
       "    }\n",
       "\n",
       "    .dataframe tbody tr th {\n",
       "        vertical-align: top;\n",
       "    }\n",
       "\n",
       "    .dataframe thead th {\n",
       "        text-align: right;\n",
       "    }\n",
       "</style>\n",
       "<table border=\"1\" class=\"dataframe\">\n",
       "  <thead>\n",
       "    <tr style=\"text-align: right;\">\n",
       "      <th></th>\n",
       "      <th>id</th>\n",
       "      <th>keyword</th>\n",
       "      <th>location</th>\n",
       "      <th>text</th>\n",
       "      <th>target</th>\n",
       "    </tr>\n",
       "  </thead>\n",
       "  <tbody>\n",
       "    <tr>\n",
       "      <th>90</th>\n",
       "      <td>132</td>\n",
       "      <td>accident</td>\n",
       "      <td>NaN</td>\n",
       "      <td>???? it was an accident http://t.co/Oia5fxi4gM</td>\n",
       "      <td>0</td>\n",
       "    </tr>\n",
       "    <tr>\n",
       "      <th>91</th>\n",
       "      <td>133</td>\n",
       "      <td>accident</td>\n",
       "      <td>New Hanover County, NC</td>\n",
       "      <td>FYI CAD:FYI: ;ACCIDENT PROPERTY DAMAGE;WPD;160...</td>\n",
       "      <td>1</td>\n",
       "    </tr>\n",
       "    <tr>\n",
       "      <th>92</th>\n",
       "      <td>134</td>\n",
       "      <td>accident</td>\n",
       "      <td>NaN</td>\n",
       "      <td>8/6/2015@2:09 PM: TRAFFIC ACCIDENT NO INJURY a...</td>\n",
       "      <td>1</td>\n",
       "    </tr>\n",
       "    <tr>\n",
       "      <th>93</th>\n",
       "      <td>135</td>\n",
       "      <td>accident</td>\n",
       "      <td>global</td>\n",
       "      <td>Aashiqui Actress Anu Aggarwal On Her Near-Fata...</td>\n",
       "      <td>1</td>\n",
       "    </tr>\n",
       "    <tr>\n",
       "      <th>94</th>\n",
       "      <td>136</td>\n",
       "      <td>accident</td>\n",
       "      <td>Alberta | Sask. | Montana</td>\n",
       "      <td>Suffield Alberta Accident https://t.co/bPTmlF4P10</td>\n",
       "      <td>1</td>\n",
       "    </tr>\n",
       "    <tr>\n",
       "      <th>95</th>\n",
       "      <td>137</td>\n",
       "      <td>accident</td>\n",
       "      <td>Charlotte</td>\n",
       "      <td>9 Mile backup on I-77 South...accident blockin...</td>\n",
       "      <td>1</td>\n",
       "    </tr>\n",
       "    <tr>\n",
       "      <th>96</th>\n",
       "      <td>138</td>\n",
       "      <td>accident</td>\n",
       "      <td>Baton Rouge, LA</td>\n",
       "      <td>Has an accident changed your life? We will hel...</td>\n",
       "      <td>0</td>\n",
       "    </tr>\n",
       "    <tr>\n",
       "      <th>97</th>\n",
       "      <td>139</td>\n",
       "      <td>accident</td>\n",
       "      <td>Hagerstown, MD</td>\n",
       "      <td>#BREAKING: there was a deadly motorcycle car a...</td>\n",
       "      <td>1</td>\n",
       "    </tr>\n",
       "    <tr>\n",
       "      <th>98</th>\n",
       "      <td>141</td>\n",
       "      <td>accident</td>\n",
       "      <td>Gloucestershire , UK</td>\n",
       "      <td>@flowri were you marinading it or was it an ac...</td>\n",
       "      <td>0</td>\n",
       "    </tr>\n",
       "    <tr>\n",
       "      <th>99</th>\n",
       "      <td>143</td>\n",
       "      <td>accident</td>\n",
       "      <td>NaN</td>\n",
       "      <td>only had a car for not even a week and got in ...</td>\n",
       "      <td>1</td>\n",
       "    </tr>\n",
       "  </tbody>\n",
       "</table>\n",
       "</div>"
      ],
      "text/plain": [
       "     id   keyword                   location  \\\n",
       "90  132  accident                        NaN   \n",
       "91  133  accident     New Hanover County, NC   \n",
       "92  134  accident                        NaN   \n",
       "93  135  accident                     global   \n",
       "94  136  accident  Alberta | Sask. | Montana   \n",
       "95  137  accident                  Charlotte   \n",
       "96  138  accident            Baton Rouge, LA   \n",
       "97  139  accident             Hagerstown, MD   \n",
       "98  141  accident       Gloucestershire , UK   \n",
       "99  143  accident                        NaN   \n",
       "\n",
       "                                                 text  target  \n",
       "90     ???? it was an accident http://t.co/Oia5fxi4gM       0  \n",
       "91  FYI CAD:FYI: ;ACCIDENT PROPERTY DAMAGE;WPD;160...       1  \n",
       "92  8/6/2015@2:09 PM: TRAFFIC ACCIDENT NO INJURY a...       1  \n",
       "93  Aashiqui Actress Anu Aggarwal On Her Near-Fata...       1  \n",
       "94  Suffield Alberta Accident https://t.co/bPTmlF4P10       1  \n",
       "95  9 Mile backup on I-77 South...accident blockin...       1  \n",
       "96  Has an accident changed your life? We will hel...       0  \n",
       "97  #BREAKING: there was a deadly motorcycle car a...       1  \n",
       "98  @flowri were you marinading it or was it an ac...       0  \n",
       "99  only had a car for not even a week and got in ...       1  "
      ]
     },
     "execution_count": 3,
     "metadata": {},
     "output_type": "execute_result"
    }
   ],
   "source": [
    "\n",
    "# test = pd.read_csv(\"test.csv\")\n",
    "train = pd.read_csv(\"sentiment_nlp.csv.csv\")\n",
    "\n",
    "print(\"Train dataset size: \", len(train))\n",
    "# print(\"Test dataset size: \", len(test))\n",
    "\n",
    "# A brief look on the train dataset\n",
    "train[90:100]"
   ]
  },
  {
   "cell_type": "markdown",
   "metadata": {},
   "source": [
    "## 1.2. Brief EDA <a id=\"section12\"></a>\n",
    "\n",
    "The dataset contains only 3 relevant features, and most of the useful information is contained in the text column. Hence, let's keep things simple and explore only the surface of this data. A few question to answer:\n",
    "* How many different locations?\n",
    "* How many different keywords?\n",
    "* Is the target class balanced? Number of real tweets vs fake tweets\n",
    "* Has the dataset missing values?"
   ]
  },
  {
   "cell_type": "code",
   "execution_count": 4,
   "metadata": {},
   "outputs": [
    {
     "name": "stdout",
     "output_type": "stream",
     "text": [
      "Number of unique locations:  4521\n",
      "Number of unique keywords:  221\n",
      "Percentage of real disaster tweets:  42.96597924602653\n",
      "Missing values:\n"
     ]
    },
    {
     "data": {
      "text/plain": [
       "id             0\n",
       "keyword       87\n",
       "location    3638\n",
       "text           0\n",
       "target      3263\n",
       "dtype: int64"
      ]
     },
     "metadata": {},
     "output_type": "display_data"
    },
    {
     "data": {
      "text/plain": [
       "Text(0.5, 0, 'Target')"
      ]
     },
     "execution_count": 4,
     "metadata": {},
     "output_type": "execute_result"
    },
    {
     "data": {
      "image/png": "[encoded data removed]",
      "text/plain": [
       "<Figure size 432x288 with 1 Axes>"
      ]
     },
     "metadata": {
      "needs_background": "light"
     },
     "output_type": "display_data"
    }
   ],
   "source": [
    "# Join  train and test datasets to analyze all data in single commands\n",
    "all_data = pd.concat([train,test], axis = 0, sort=False)\n",
    "\n",
    "# How many locations/keywords?\n",
    "print(\"Number of unique locations: \", all_data.location.nunique())\n",
    "print(\"Number of unique keywords: \",all_data.keyword.nunique())\n",
    "\n",
    "# Check data balance; frequency of real disaster tweets (target=1)\n",
    "print(\"Percentage of real disaster tweets: \", all_data.target.sum()/len(train)*100)\n",
    "\n",
    "# Find missing values in a single code line,\n",
    "print(\"Missing values:\")\n",
    "display(all_data.isna().sum())\n",
    "\n",
    "ax = sns.barplot(train['target'].value_counts().index,train['target'].value_counts()/len(train))\n",
    "ax.set_title(\"Real vs fake tweets\")\n",
    "ax.set_ylabel(\"Percentage\")\n",
    "ax.set_xlabel(\"Target\")"
   ]
  },
  {
   "cell_type": "markdown",
   "metadata": {},
   "source": [
    "**Conclusions**:\n",
    "* There's almost half the number of locations than the number of data rows\n",
    "* Not many different keywords\n",
    "* Target variable is balanced (43% are real tweets)\n",
    "* Some keywords are missing\n",
    "* Almost 30% of the locations are missing\n",
    "\n",
    "The most common keywords and locations may also give us some insight:"
   ]
  },
  {
   "cell_type": "code",
   "execution_count": 5,
   "metadata": {},
   "outputs": [
    {
     "data": {
      "text/plain": [
       "Text(0.5, 1.0, 'Top 15 locations')"
      ]
     },
     "execution_count": 5,
     "metadata": {},
     "output_type": "execute_result"
    },
    {
     "data": {
      "image/png": "[encoded data removed]",
      "text/plain": [
       "<Figure size 1080x360 with 2 Axes>"
      ]
     },
     "metadata": {
      "needs_background": "light"
     },
     "output_type": "display_data"
    }
   ],
   "source": [
    "f1, axes = plt.subplots(1, 2, figsize=(15,5))\n",
    "f1.subplots_adjust(hspace=0.4, wspace=0.3)\n",
    "ax1 = sns.barplot(y=train['keyword'].value_counts()[:15].index,x=train['keyword'].value_counts()[:15],\n",
    "            orient='h', ax=axes[0])\n",
    "ax1.set_title(\"Top 15 keywords\")\n",
    "ax2 = sns.barplot(y=train['location'].value_counts()[:15].index,x=train['location'].value_counts()[:15],\n",
    "            orient='h', ax=axes[1])\n",
    "ax2.set_title(\"Top 15 locations\")"
   ]
  },
  {
   "cell_type": "markdown",
   "metadata": {},
   "source": [
    "Looks like there are some duplicates (i.e. USA/United States), and some USA countries are also specified (i.e. Chicago, IL). However, since locations have proven to contain lots of missing values, it's not worth working these duplicates. \n",
    "\n",
    "A more interesting task is to **replace missing values** in locations and keywords by the string \"None\"."
   ]
  },
  {
   "cell_type": "code",
   "execution_count": 6,
   "metadata": {},
   "outputs": [],
   "source": [
    "# Fill missings for train and test datasets\n",
    "all_data.location.fillna(\"None\", inplace=True)\n",
    "all_data.keyword.fillna(\"None\", inplace=True)\n",
    "\n",
    "# Fill the target column for the test rows. This will help us with future calls to model predictions\n",
    "all_data.target.fillna(0, inplace=True)"
   ]
  },
  {
   "cell_type": "markdown",
   "metadata": {},
   "source": [
    "## 1.3. BOW and logistic regression prediction <a id=\"section13\"></a>\n",
    "\n",
    "Data has been analysed and there are no missing values in the dataset. We could now proceed to analyze all columns in order to classify tweets into real or misleading disaster tweets, and even extract some additional features (number of words, number of punctuation marks, etc). However, since we are interested in the language treatment of this dataset, **for the sake of simplicity I decided to focus only on the text column** and ignore the other ones. Notice that ignoring keywords, locations and engineered features may prevent our algorithms from obtaining better scores.\n",
    "\n",
    "We are in disposition to **compute the bag of words** (BOW), split the dataset into a train/validation subsets and finally compute a **logistic regression model**. "
   ]
  },
  {
   "cell_type": "code",
   "execution_count": 7,
   "metadata": {},
   "outputs": [
    {
     "name": "stdout",
     "output_type": "stream",
     "text": [
      "Cross validation over 10 folds:  [0.78817734 0.7635468  0.77011494 0.78981938 0.77668309 0.77339901\n",
      " 0.74712644 0.77668309 0.77504105 0.79310345]  ---  0.7753694581280789\n",
      "accuracy = 0.797, precision = 0.797, recall = 0.797, f1 = 0.797\n"
     ]
    }
   ],
   "source": [
    "# Define the vectorizer counter that will compute the BOW\n",
    "def count_vector(data):\n",
    "    count_vectorizer = CountVectorizer()\n",
    "    emb = count_vectorizer.fit_transform(data)\n",
    "    return emb, count_vectorizer\n",
    "\n",
    "\n",
    "# Define a function for the logistic regression algorithm\n",
    "def logreg_bow(data, valid_fraction):\n",
    "    \n",
    "    # Transform data to list\n",
    "    list_corpus = data[\"text\"].tolist()\n",
    "    list_labels = data[\"target\"].tolist()\n",
    "\n",
    "    # Split train-validation data\n",
    "    X_train, X_valid, y_train, y_valid = train_test_split(list_corpus, list_labels, \n",
    "                                                          test_size=valid_fraction, random_state=21)\n",
    "\n",
    "    # Generate the bag of words through the count_vectorizer function\n",
    "    X_train_counts, count_vectorizer = count_vector(X_train)\n",
    "    X_valid_counts = count_vectorizer.transform(X_valid)\n",
    "\n",
    "    # Run LogisticRegression model\n",
    "    clf = LogisticRegression(C=30.0, class_weight='balanced', solver='newton-cg', \n",
    "                             multi_class='multinomial', n_jobs=-1, random_state=21)\n",
    "    clf.fit(X_train_counts, y_train)\n",
    "    y_predicted_counts = clf.predict(X_valid_counts)\n",
    "    \n",
    "    # Cross validation score over 10 folds\n",
    "    scores = cross_val_score(clf, X_train_counts, y_train, cv=10)\n",
    "    print(\"Cross validation over 10 folds: \", scores, \" --- \", sum(scores)/10.)\n",
    "\n",
    "    return y_predicted_counts, y_valid\n",
    "\n",
    "\n",
    "# Define a metrics function named get_metrics to evaluate the model's performance\n",
    "def get_metrics(y_test, y_predicted):  \n",
    "    # true positives / (true positives+false positives)\n",
    "    precision = precision_score(y_test, y_predicted, pos_label=None,\n",
    "                                    average='weighted')             \n",
    "    # true positives / (true positives + false negatives)\n",
    "    recall = recall_score(y_test, y_predicted, pos_label=None,\n",
    "                              average='weighted')\n",
    "    \n",
    "    # harmonic mean of precision and recall\n",
    "    f1 = f1_score(y_test, y_predicted, pos_label=None, average='weighted')\n",
    "    \n",
    "    # true positives + true negatives/ total\n",
    "    accuracy = accuracy_score(y_test, y_predicted)\n",
    "    return accuracy, precision, recall, f1\n",
    "\n",
    "\n",
    "# Final call of the logistic regression model and metrics\n",
    "y_predicted_logistic, y_val = logreg_bow(all_data[:len(train)], 0.2)\n",
    "accuracy, precision, recall, f1 = get_metrics(y_val, y_predicted_logistic)\n",
    "print(\"accuracy = %.3f, precision = %.3f, recall = %.3f, f1 = %.3f\" % (accuracy, precision, recall, f1))"
   ]
  },
  {
   "cell_type": "markdown",
   "metadata": {},
   "source": [
    "A validation accuracy of 0.797, quite good for such a simple model. Let's compute the prediction over the test dataset and submit the output file to obtain a LB score. "
   ]
  },
  {
   "cell_type": "code",
   "execution_count": 8,
   "metadata": {},
   "outputs": [
    {
     "name": "stdout",
     "output_type": "stream",
     "text": [
      "Cross validation over 10 folds:  [0.73753281 0.74671916 0.7191601  0.73718791 0.73718791 0.74244415\n",
      " 0.717477   0.71879106 0.73718791 0.72141919]  ---  0.731510721146716\n"
     ]
    }
   ],
   "source": [
    "def submit_logistic(outfile_name, data, test, valid_frac):\n",
    "    \n",
    "    # Run the LogisticRegression model\n",
    "    y_pred, y_valid = logreg_bow(data, valid_frac)\n",
    "    \n",
    "    # Submit results\n",
    "    submission = pd.DataFrame({\n",
    "            \"id\": test.id, \n",
    "            \"target\": y_pred\n",
    "        })\n",
    "    submission.to_csv(outfile_name, index=False)\n",
    "    \n",
    "    return y_pred, y_valid\n",
    "    \n",
    "y_logistic_pred, y_logistic_test = submit_logistic(\"submission_logistic_basic.csv\", all_data, test, len(test)/len(all_data))"
   ]
  },
  {
   "cell_type": "markdown",
   "metadata": {},
   "source": [
    "Performance of the models:\n",
    "* **Basic logistic**:  cross_val_accuracy = 0.7754, accuracy = 0.797, precision = 0.797, recall = 0.797, f1 = 0.797"
   ]
  },
  {
   "cell_type": "markdown",
   "metadata": {},
   "source": [
    "# 2. Text data cleaning <a id=\"section2\"></a>\n",
    "\n",
    "Despite being very simple, our first model has reached a reasonably good accuracy. Let's see if we can improve it by performing specific cleaning techniques for language data. \n",
    "\n",
    "Steps in this section:\n",
    "* 2.1. Lowercasing\n",
    "* 2.2. Normalization\n",
    "* 2.3. Stop word removal\n",
    "* 2.4. Lemmatization\n",
    "\n",
    "**Note 1**: this techniques should not be considered as a mandatory procedure to apply in all NLP projects. Some of them could lead to lower performances depending on the specific nature of the problem, and that's why we are going to add them to the model independently in order to verify if the accuracy increases.\n",
    "\n",
    "**Note 2**: to achieve a more readable code, we will compute everything based on generalized functions that include all the previous steps. Moreover, some of the cleaning techniques take some time to process the data, so that we will save one file per transformation."
   ]
  },
  {
   "cell_type": "markdown",
   "metadata": {},
   "source": [
    "## 2.1. Lowercasing <a id=\"section21\"></a>\n",
    "\n",
    "**Definition**: In order to allow the program to generalize words, transform all of them to lower case."
   ]
  },
  {
   "cell_type": "code",
   "execution_count": 9,
   "metadata": {},
   "outputs": [],
   "source": [
    "# Convert text column to lowercase\n",
    "all_data2 = all_data.copy()\n",
    "all_data2['text'] = all_data['text'].apply(lambda x: x.lower())\n",
    "all_data2.head(5)\n",
    "all_data2.to_csv(\"tweets_lowercased\", index=False)"
   ]
  },
  {
   "cell_type": "markdown",
   "metadata": {},
   "source": [
    "The tokenizer works fine, transforming all characters into lowercase. Does this transformation improves the model's performance?"
   ]
  },
  {
   "cell_type": "code",
   "execution_count": 10,
   "metadata": {},
   "outputs": [
    {
     "name": "stdout",
     "output_type": "stream",
     "text": [
      "Cross validation over 10 folds:  [0.78817734 0.7635468  0.77011494 0.78981938 0.77668309 0.77339901\n",
      " 0.74712644 0.77668309 0.77504105 0.79310345]  ---  0.7753694581280789\n",
      "accuracy = 0.797, precision = 0.797, recall = 0.797, f1 = 0.797\n"
     ]
    }
   ],
   "source": [
    "y_logistic_lower, y_val = logreg_bow(all_data2[:len(train)], 0.2)\n",
    "accuracy, precision, recall, f1 = get_metrics(y_val, y_logistic_lower)\n",
    "print(\"accuracy = %.3f, precision = %.3f, recall = %.3f, f1 = %.3f\" % (accuracy, precision, recall, f1))"
   ]
  },
  {
   "cell_type": "markdown",
   "metadata": {},
   "source": [
    "**Conclusion**: lowercased text do not improve the logistic regression performance. However, it does not make it worse either.\n",
    "\n",
    "Performance of the models:\n",
    "* **Basic logistic**:  cross_val_accuracy = 0.7754, accuracy = 0.797, precision = 0.797, recall = 0.797, f1 = 0.797\n",
    "* **Lowercase logistic**:  cross_val_accuracy = 0.7754, accuracy = 0.797, precision = 0.797, recall = 0.797, f1 = 0.797"
   ]
  },
  {
   "cell_type": "markdown",
   "metadata": {},
   "source": [
    "## 2.2. Normalization <a id=\"section22\"></a>\n",
    "\n",
    "**Definition**: The jargon used in coloquial language, specially in social media, leads to either content not useful for NLP or to different versions of the same sentence but written in alternative ways. For example: punctuation marks, emojis, contractions, URLs, grammar errors... \n",
    "\n",
    "To normalize data and reduce noise, we will apply several transformations:\n",
    "* **Remove accents**. Instead of receiving accented characters (latté) we just write plain letters.\n",
    "* **Remove URL**. Most tweets may include links and such, it may be good to clean them.\n",
    "* **Remove html**. Scratched data usually contains headers and marks (<br/), this should be removed.\n",
    "* **Remove emojis**. Despite emojis are related to sentiments, they are abused and used in any type of tweet.\n",
    "* **Remove punctuation**. All punctuation marks are deleted.\n",
    "* **Expand contraction**s. Contractions like isn't are expanded to is not.\n",
    "* **Spell checking**. Substitute wrong sentences (Am gona ned you) to correct ones (I am going to need you).\n",
    "\n",
    "**Disclaimer**: the origin of several of the functions used in this subsection come from the awesome kernel of Shahules786; https://www.kaggle.com/shahules/basic-eda-cleaning-and-glove. Please check it out for reckon."
   ]
  },
  {
   "cell_type": "code",
   "execution_count": 11,
   "metadata": {},
   "outputs": [],
   "source": [
    "def remove_accented_chars(text):\n",
    "    text = unidecode.unidecode(text)\n",
    "    return text\n",
    "\n",
    "def remove_html(text):\n",
    "    html=re.compile(r'<.*?>')\n",
    "    return html.sub(r'',text)\n",
    "\n",
    "def remove_url(text):\n",
    "    url = re.compile(r'https?://\\S+|www\\.\\S+')\n",
    "    return url.sub(r'',text)\n",
    "\n",
    "def remove_emoji(text):\n",
    "    emoji_pattern = re.compile(\"[\"\n",
    "                           u\"\\U0001F600-\\U0001F64F\"  # emoticons\n",
    "                           u\"\\U0001F300-\\U0001F5FF\"  # symbols & pictographs\n",
    "                           u\"\\U0001F680-\\U0001F6FF\"  # transport & map symbols\n",
    "                           u\"\\U0001F1E0-\\U0001F1FF\"  # flags (iOS)\n",
    "                           u\"\\U00002702-\\U000027B0\"\n",
    "                           u\"\\U000024C2-\\U0001F251\"\n",
    "                           \"]+\", flags=re.UNICODE)\n",
    "    return emoji_pattern.sub(r'', text)\n",
    "\n",
    "def remove_punct(text):\n",
    "    table=str.maketrans('','',string.punctuation)\n",
    "    return text.translate(table)\n",
    "\n",
    "def expand_contractions(text):\n",
    "    text = list(cont.expand_texts([text], precise=True))[0]\n",
    "    return text\n",
    "\n",
    "spell = SpellChecker()\n",
    "def correct_spellings(text):\n",
    "    corrected_text = []\n",
    "    misspelled_words = spell.unknown(text.split())\n",
    "    for word in text.split():\n",
    "        if word in misspelled_words:\n",
    "            corrected_text.append(spell.correction(word))\n",
    "        else:\n",
    "            corrected_text.append(word)\n",
    "    return \" \".join(corrected_text)\n",
    "\n",
    "# Now compact all the normalization function calls into a single function\n",
    "def normalization(text):\n",
    "    text = remove_accented_chars(text)\n",
    "    text = remove_html(text)\n",
    "    text = remove_url(text)\n",
    "    text = remove_emoji(text)\n",
    "    text = remove_punct(text)\n",
    "    text = expand_contractions(text)\n",
    "    text = correct_spellings(text)\n",
    "    return text"
   ]
  },
  {
   "cell_type": "markdown",
   "metadata": {},
   "source": [
    "Once all the sub-processes have been defined, we just need to apply the normalization function:"
   ]
  },
  {
   "cell_type": "code",
   "execution_count": 12,
   "metadata": {},
   "outputs": [
    {
     "name": "stdout",
     "output_type": "stream",
     "text": [
      "Time spent:  5954.181267023087\n"
     ]
    }
   ],
   "source": [
    "ts = time.time()\n",
    "\n",
    "all_data2 = all_data.copy()\n",
    "all_data2['text'] = all_data['text'].apply(lambda x: normalization(x))\n",
    "all_data2.head(5)\n",
    "all_data2.to_csv(\"tweets_normalized\", index=False)\n",
    "\n",
    "print(\"Time spent: \", time.time() - ts)"
   ]
  },
  {
   "cell_type": "markdown",
   "metadata": {},
   "source": [
    "Tweets have been correctly transformed according to our normalization rules. Do normalization increases the logistic regression performance?"
   ]
  },
  {
   "cell_type": "code",
   "execution_count": 13,
   "metadata": {},
   "outputs": [
    {
     "name": "stdout",
     "output_type": "stream",
     "text": [
      "Cross validation over 10 folds:  [0.75697865 0.76683087 0.75041051 0.78489327 0.7454844  0.75697865\n",
      " 0.74220033 0.76190476 0.74712644 0.78489327]  ---  0.7597701149425287\n",
      "accuracy = 0.788, precision = 0.788, recall = 0.788, f1 = 0.788\n"
     ]
    }
   ],
   "source": [
    "y_logistic_norm, y_val = logreg_bow(pd.read_csv(\"/kaggle/input/disaster-tweets-comp-introduction-to-nlp/tweets_normalized\")[:len(train)], 0.2)\n",
    "accuracy, precision, recall, f1 = get_metrics(y_val, y_logistic_norm)\n",
    "print(\"accuracy = %.3f, precision = %.3f, recall = %.3f, f1 = %.3f\" % (accuracy, precision, recall, f1))"
   ]
  },
  {
   "cell_type": "markdown",
   "metadata": {},
   "source": [
    "**Conclusion**: looks like normalization has worsen the model's accuracy, as well as the rest of the metrics. Maybe some of the removed characters contained some useful information, so that we conclude that no normalization is required for the dataset.\n",
    "\n",
    "Performance of the models:\n",
    "* **Basic logistic**:  cross_val_accuracy = 0.7754, accuracy = 0.797, precision = 0.797, recall = 0.797, f1 = 0.797\n",
    "* **Lowercase logistic**:  cross_val_accuracy = 0.7754, accuracy = 0.797, precision = 0.797, recall = 0.797, f1 = 0.797\n",
    "* **Normalized logistic**:  cross_val_accuracy = 0.7599, accuracy = 0.788, precision = 0.788, recall = 0.788, f1 = 0.788"
   ]
  },
  {
   "cell_type": "markdown",
   "metadata": {},
   "source": [
    "## 2.3. Stop word removal <a id=\"section23\"></a>\n",
    "\n",
    "**Definition**: Analogous to normalization, some words are merely argon based and do not add much value to sentences. For example: the, to, and,...\n",
    "\n",
    "In order to remove stop words, we will use a powerful NLP library named spaCy. **SpaCy is able to recognise different languages**, split full texts into words (tokens) and extract additional features that we will review in the following sections. For now on, let's just use it for transformation purposes.\n",
    "\n",
    "The first step to work with spaCy is to load the language model to use (see https://spacy.io/usage/models and https://spacy.io/usage/spacy-101 for detailed info), in our case English. This sets up the specific rules of the language in order to perform the **tokenization**."
   ]
  },
  {
   "cell_type": "code",
   "execution_count": 14,
   "metadata": {},
   "outputs": [],
   "source": [
    "# Load the spacy model to get sentence vectors\n",
    "nlp = spacy.load('en_core_web_lg')"
   ]
  },
  {
   "cell_type": "markdown",
   "metadata": {},
   "source": [
    "The SpaCy library contains an in-built stop word function, so that removing these words is very simple:"
   ]
  },
  {
   "cell_type": "code",
   "execution_count": 15,
   "metadata": {},
   "outputs": [
    {
     "name": "stdout",
     "output_type": "stream",
     "text": [
      "Time spent:  112.17420625686646\n"
     ]
    }
   ],
   "source": [
    "def remove_stopwords(text):\n",
    "    tokens = [token.text for token in text if not token.is_stop]\n",
    "    return ' '.join([token for token in tokens])\n",
    "\n",
    "ts = time.time()\n",
    "all_data2 = all_data.copy()\n",
    "all_data2['text'] = all_data['text'].apply(lambda x: remove_stopwords(nlp(x)))\n",
    "all_data2.head(5)\n",
    "all_data2.to_csv(\"tweets_no_stopwords\", index=False)\n",
    "print(\"Time spent: \", time.time() - ts)"
   ]
  },
  {
   "cell_type": "markdown",
   "metadata": {},
   "source": [
    "Stopwords are succesfully removed from the tweets text. Let's see if this improves the performance:"
   ]
  },
  {
   "cell_type": "code",
   "execution_count": 16,
   "metadata": {},
   "outputs": [
    {
     "name": "stdout",
     "output_type": "stream",
     "text": [
      "Cross validation over 10 folds:  [0.77832512 0.77175698 0.75533662 0.80788177 0.78817734 0.77175698\n",
      " 0.74876847 0.76518883 0.77504105 0.80952381]  ---  0.777175697865353\n",
      "accuracy = 0.787, precision = 0.786, recall = 0.787, f1 = 0.786\n"
     ]
    }
   ],
   "source": [
    "y_logistic_stop, y_val = logreg_bow(pd.read_csv(\"/kaggle/input/disaster-tweets-comp-introduction-to-nlp/tweets_no_stopwords\")[:len(train)], 0.2)\n",
    "accuracy, precision, recall, f1 = get_metrics(y_val, y_logistic_stop)\n",
    "print(\"accuracy = %.3f, precision = %.3f, recall = %.3f, f1 = %.3f\" % (accuracy, precision, recall, f1))"
   ]
  },
  {
   "cell_type": "markdown",
   "metadata": {},
   "source": [
    "**Conclusion**: removing stopwords has slightly increased the cross validation accuracy. Other metrics are also improved, so that we conclude that stop word removal helps the model to predict real disaster tweets. \n",
    "\n",
    "Performance of the models:\n",
    "* **Basic logistic**:  cross_val_accuracy = 0.7754, accuracy = 0.797, precision = 0.797, recall = 0.797, f1 = 0.797\n",
    "* **Lowercase logistic**:  cross_val_accuracy = 0.7754, accuracy = 0.797, precision = 0.797, recall = 0.797, f1 = 0.797\n",
    "* **Normalized logistic**:  cross_val_accuracy = 0.7599, accuracy = 0.788, precision = 0.788, recall = 0.788, f1 = 0.788\n",
    "* **No stopwords logistic**:   cross_val_accuracy = 0.7755, accuracy = 0.787, precision = 0.786, recall = 0.787, f1 = 0.786"
   ]
  },
  {
   "cell_type": "markdown",
   "metadata": {},
   "source": [
    "## 2.4. Lemmatization <a id=\"section24\"></a>\n",
    "\n",
    "**Definition**: Several words share a common root, but their slight differences are not very important. Hence, lemmatization translates all these words into their root form, so that models are not confused by different versions. For example: bad and worse, or flying, flew and flown.\n",
    "\n",
    "Again, we will use Spacy, since it automatically computes the lemma of each word. Analogously to stop words, obtaining the lemma is very easy:"
   ]
  },
  {
   "cell_type": "code",
   "execution_count": 17,
   "metadata": {},
   "outputs": [
    {
     "name": "stdout",
     "output_type": "stream",
     "text": [
      "Time spent:  102.94515037536621\n"
     ]
    }
   ],
   "source": [
    "def lemmatizer(text):\n",
    "    tokens = [token.lemma_ for token in text]\n",
    "    return ' '.join([token for token in tokens])\n",
    "\n",
    "ts = time.time()\n",
    "all_data2 = all_data.copy()\n",
    "all_data2['text'] = all_data['text'].apply(lambda x: lemmatizer(nlp(x)))\n",
    "all_data2.head(5)\n",
    "all_data2.to_csv(\"tweets_lemmatized\", index=False)\n",
    "print(\"Time spent: \", time.time() - ts)"
   ]
  },
  {
   "cell_type": "markdown",
   "metadata": {},
   "source": [
    "Lemmatization has tranformed all words into their root form. Once a model is run, it will recognize the meaning of the words but ignoring specific conjugations and alternative forms. Our next objective is to verify if the accuracy is improved."
   ]
  },
  {
   "cell_type": "code",
   "execution_count": 18,
   "metadata": {},
   "outputs": [
    {
     "name": "stdout",
     "output_type": "stream",
     "text": [
      "Cross validation over 10 folds:  [0.78981938 0.76190476 0.76190476 0.7816092  0.77339901 0.7865353\n",
      " 0.75205255 0.77504105 0.78325123 0.80131363]  ---  0.7766830870279146\n",
      "accuracy = 0.789, precision = 0.789, recall = 0.789, f1 = 0.789\n"
     ]
    }
   ],
   "source": [
    "y_logistic_lemma, y_val = logreg_bow(pd.read_csv(\"/kaggle/input/disaster-tweets-comp-introduction-to-nlp/tweets_lemmatized\")[:len(train)], 0.2)\n",
    "accuracy, precision, recall, f1 = get_metrics(y_val, y_logistic_lemma)\n",
    "print(\"accuracy = %.3f, precision = %.3f, recall = %.3f, f1 = %.3f\" % (accuracy, precision, recall, f1))"
   ]
  },
  {
   "cell_type": "markdown",
   "metadata": {},
   "source": [
    "**Conclusion**: lemmatization has proved to slightly increase the tweets classification process. We will apply lemmatization in future models. From all the techniques, normalization is the only one that has provided a lower accuracy. Hence, we conclude that we should avoid normalization for this dataset.\n",
    "\n",
    "Performance of the models:\n",
    "* **Basic logistic**:  cross_val_accuracy = 0.7754, accuracy = 0.797, precision = 0.797, recall = 0.797, f1 = 0.797\n",
    "* **Lowercase logistic**:  cross_val_accuracy = 0.7754, accuracy = 0.797, precision = 0.797, recall = 0.797, f1 = 0.797\n",
    "* **Normalized logistic**:  cross_val_accuracy = 0.7598, accuracy = 0.788, precision = 0.788, recall = 0.788, f1 = 0.788\n",
    "* **No stopwords logistic**:   cross_val_accuracy = 0.7772, accuracy = 0.787, precision = 0.786, recall = 0.787, f1 = 0.786\n",
    "* **Lemmatized logistic**:   cross_val_accuracy = 0.7767, accuracy = 0.776, precision = 0.776, recall = 0.776, f1 = 0.776"
   ]
  },
  {
   "cell_type": "markdown",
   "metadata": {},
   "source": [
    "# 3. Term frequency - Inverse document frequency (TFIDF) <a id=\"section3\"></a>\n",
    "\n",
    "Data cleaning has demonstrated its utility, but also that it's important to explore which techniques are suitable for our problem. In order to keep getting better results, we'll try a subtle modification of the BOW named **term frequency, inverse document frequency (TF-IDF)**. \n",
    "\n",
    "Analogous to BOW, TF-IDF creates one column for each word, but this time the weight is averaged by both the frequency of the word and the number of cases in which it appears. Hence, if there are multiple occurrences of a certain word, but it's common in most of the texts, then the weight is lowered. "
   ]
  },
  {
   "cell_type": "code",
   "execution_count": 19,
   "metadata": {},
   "outputs": [],
   "source": [
    "def tfidf(data):\n",
    "    tfidf_vectorizer = TfidfVectorizer()\n",
    "    train = tfidf_vectorizer.fit_transform(data)\n",
    "    return train, tfidf_vectorizer\n",
    "\n",
    "def logreg_tfidf(data, valid_fraction):\n",
    "    \n",
    "    # Transform data to list\n",
    "    list_corpus = data[\"text\"].tolist()\n",
    "    list_labels = data[\"target\"].tolist()\n",
    "    \n",
    "    # Split train-validation data\n",
    "    X_train, X_valid, y_train, y_valid = train_test_split(list_corpus, list_labels, \n",
    "                                                          test_size=valid_fraction, random_state=21)\n",
    "\n",
    "    # Compute the tfidf vectors\n",
    "    X_train_tfidf, tfidf_vectorizer = tfidf(X_train)\n",
    "    X_valid_tfidf = tfidf_vectorizer.transform(X_valid)\n",
    "\n",
    "    # Run the logistic regression model\n",
    "    clf_tfidf = LogisticRegression(C=30.0, class_weight='balanced', solver='newton-cg', \n",
    "                             multi_class='multinomial', n_jobs=-1, random_state=21)\n",
    "    clf_tfidf.fit(X_train_tfidf, y_train)\n",
    "\n",
    "    y_predicted_tfidf = clf_tfidf.predict(X_valid_tfidf)\n",
    "    \n",
    "    # Cross validation score over 10 folds\n",
    "    scores = cross_val_score(clf_tfidf, X_train_tfidf, y_train, cv=10)\n",
    "    print(\"Cross validation over 10 folds: \", sum(scores)/10.)\n",
    "    \n",
    "    return y_predicted_tfidf, y_valid"
   ]
  },
  {
   "cell_type": "markdown",
   "metadata": {},
   "source": [
    "In order to properly analyze the results of the TF-IDF transformation, we will run the logistic regression model for all the data cleaning cases:"
   ]
  },
  {
   "cell_type": "code",
   "execution_count": 20,
   "metadata": {},
   "outputs": [
    {
     "name": "stdout",
     "output_type": "stream",
     "text": [
      "Basic model\n",
      "Cross validation over 10 folds:  0.7773399014778325\n",
      "Lowercased model\n",
      "Cross validation over 10 folds:  0.7773399014778325\n",
      "Normalized model\n",
      "Cross validation over 10 folds:  0.7674876847290639\n",
      "No stopwords model\n",
      "Cross validation over 10 folds:  0.777832512315271\n",
      "Lemmatized model\n",
      "Cross validation over 10 folds:  0.7802955665024631\n"
     ]
    }
   ],
   "source": [
    "print(\"Basic model\")\n",
    "y_predicted_tfidf, y_valid = logreg_tfidf(all_data[:len(train)], 0.2)\n",
    "\n",
    "print(\"Lowercased model\")\n",
    "y_predicted_tfidf, y_valid = logreg_tfidf(pd.read_csv(\"/kaggle/input/disaster-tweets-comp-introduction-to-nlp/tweets_lowercased\")[:len(train)], 0.2)\n",
    "\n",
    "print(\"Normalized model\")\n",
    "y_predicted_tfidf, y_valid = logreg_tfidf(pd.read_csv(\"/kaggle/input/disaster-tweets-comp-introduction-to-nlp/tweets_normalized\")[:len(train)], 0.2)\n",
    "\n",
    "print(\"No stopwords model\")\n",
    "y_predicted_tfidf, y_valid = logreg_tfidf(pd.read_csv(\"/kaggle/input/disaster-tweets-comp-introduction-to-nlp/tweets_no_stopwords\")[:len(train)], 0.2)\n",
    "\n",
    "print(\"Lemmatized model\")\n",
    "y_predicted_tfidf, y_valid = logreg_tfidf(pd.read_csv(\"/kaggle/input/disaster-tweets-comp-introduction-to-nlp/tweets_lemmatized\")[:len(train)], 0.2)"
   ]
  },
  {
   "cell_type": "markdown",
   "metadata": {},
   "source": [
    "**Conclusion**: results are slightly better than in the BOW case, but they point into the same direction with respect to data cleaning. All  cleaning techniques have improved the model's accuracy, except for normalization. From now on, we will use a dataset with the **full cleaning but for normalization**."
   ]
  },
  {
   "cell_type": "markdown",
   "metadata": {},
   "source": [
    "# 4. Comparison of classification models <a id=\"section4\"></a>\n",
    "\n",
    "At this point, we are in disposition to conclude that the best results are obtained by a combination of TF-IDF and a certain data cleaning (no normalization). At least, that's what we observed from a Logistic regression model. But, what about other models? In this section we will analyze different classification algorithms to see which performs better in the tweets dataset.\n",
    "\n",
    "Models to study:\n",
    "* Naive Bayes\n",
    "* Linear SVC\n",
    "* KNN\n",
    "* Random Forest\n",
    "* XGBoost\n",
    "\n",
    "Before starting with the predictions, we need to generate the clean tweet dataset to analyze (lowercasing + stop removal + lemmatization):"
   ]
  },
  {
   "cell_type": "code",
   "execution_count": 21,
   "metadata": {},
   "outputs": [
    {
     "name": "stdout",
     "output_type": "stream",
     "text": [
      "Time spent:  95.30118370056152\n"
     ]
    }
   ],
   "source": [
    "ts = time.time()\n",
    "\n",
    "# Read the file with no stop words\n",
    "clean_data = pd.read_csv(\"/kaggle/input/disaster-tweets-comp-introduction-to-nlp/tweets_no_stopwords\")\n",
    "\n",
    "# Lemmatize\n",
    "clean_data['text'] = clean_data['text'].apply(lambda x: lemmatizer(nlp(x)))\n",
    "\n",
    "# Lowercase\n",
    "clean_data['text'] = clean_data['text'].apply(lambda x: x.lower())\n",
    "\n",
    "clean_data.to_csv(\"tweets_clean\", index=False)\n",
    "\n",
    "print(\"Time spent: \", time.time() - ts)"
   ]
  },
  {
   "cell_type": "markdown",
   "metadata": {},
   "source": [
    "Define a couple quality of life functions to split train/test data and get the cross validation score of any classification model:"
   ]
  },
  {
   "cell_type": "code",
   "execution_count": 22,
   "metadata": {},
   "outputs": [],
   "source": [
    "# Define a tfidf and split function\n",
    "def tfidf_split(data, valid_fraction):\n",
    "    \n",
    "    # Transform data to list\n",
    "    list_corpus = data[\"text\"].tolist()\n",
    "    list_labels = data[\"target\"].tolist()\n",
    "    \n",
    "    # Split train-validation data\n",
    "    X_train, X_valid, y_train, y_valid = train_test_split(list_corpus, list_labels, \n",
    "                                                          test_size=valid_fraction, random_state=21)\n",
    "\n",
    "    # Compute the tfidf vectors\n",
    "    X_train_tfidf, tfidf_vectorizer = tfidf(X_train)\n",
    "    X_valid_tfidf = tfidf_vectorizer.transform(X_valid)\n",
    "    \n",
    "    return X_train_tfidf, X_valid_tfidf, y_train, y_valid\n",
    "\n",
    "X_train, X_valid, y_train, y_valid = tfidf_split(clean_data[:len(train)], 0.2)\n",
    "\n",
    "\n",
    "# Define a general call for the different models\n",
    "def get_cross_val(model, X_train, X_valid, y_train, y_valid):\n",
    "    \n",
    "    # Fit on train, predict on validation\n",
    "    clf = model\n",
    "    clf.fit(X_train, y_train)\n",
    "    y_pred = clf.predict(X_valid)\n",
    "    \n",
    "    # Cross validation score over 10 folds\n",
    "    scores = cross_val_score(clf, X_train, y_train, cv=10)\n",
    "    print(\"Cross validation over 10 folds: \", sum(scores)/10.)\n",
    "    \n",
    "    return y_pred"
   ]
  },
  {
   "cell_type": "markdown",
   "metadata": {},
   "source": [
    "Now, to obtain the cross validation score, we simply call the function **get_cross_val** for each of the models:"
   ]
  },
  {
   "cell_type": "code",
   "execution_count": 23,
   "metadata": {},
   "outputs": [
    {
     "name": "stdout",
     "output_type": "stream",
     "text": [
      "Logistic regression: \n",
      "Cross validation over 10 folds:  0.7763546798029556\n",
      "\n",
      "Naive Bayes:\n",
      "Cross validation over 10 folds:  0.6021346469622332\n",
      "\n",
      "SVC:\n",
      "Cross validation over 10 folds:  0.789655172413793\n",
      "\n",
      "KNN:\n",
      "Cross validation over 10 folds:  0.777175697865353\n",
      "\n",
      "Random forest:\n",
      "Cross validation over 10 folds:  0.7821018062397372\n",
      "\n",
      "XGBoost:\n",
      "Cross validation over 10 folds:  0.7819376026272578\n",
      "Time spent:  1765.5028131008148\n"
     ]
    }
   ],
   "source": [
    "ts = time.time()\n",
    "\n",
    "print(\"Logistic regression: \")\n",
    "y_LR = get_cross_val(LogisticRegression(C=30.0, class_weight='balanced', \n",
    "                                        solver='newton-cg', multi_class='multinomial', \n",
    "                                        n_jobs=-1, random_state=21), \n",
    "                                        X_train.toarray(), X_valid.toarray(), y_train, y_valid)\n",
    "\n",
    "print(\"\\nNaive Bayes:\")\n",
    "y_bayes = get_cross_val(GaussianNB(), X_train.toarray(), X_valid.toarray(), y_train, y_valid)\n",
    "\n",
    "print(\"\\nSVC:\")\n",
    "y_SVC = get_cross_val(LinearSVC(random_state=21, dual=False), X_train, X_valid, y_train, y_valid)\n",
    "\n",
    "print(\"\\nKNN:\")\n",
    "y_KNN = get_cross_val(KNeighborsClassifier(n_neighbors=15), X_train, X_valid, y_train, y_valid)\n",
    "\n",
    "print(\"\\nRandom forest:\")\n",
    "y_RF = get_cross_val(RandomForestClassifier(random_state=21), X_train, X_valid, y_train, y_valid)\n",
    "\n",
    "print(\"\\nXGBoost:\")\n",
    "y_XGB = get_cross_val(XGBClassifier(n_estimators=1000, random_state=21), X_train, X_valid, y_train, y_valid)\n",
    "\n",
    "print(\"Time spent: \", time.time() - ts)"
   ]
  },
  {
   "cell_type": "markdown",
   "metadata": {},
   "source": [
    "**Conclusions**: All models have performed well except for Naive Bayes. The best scores are obtained by SVC, Random Forest and XGB. Notice that we performed no fine tunning of the parameters, which may affect the results (in particular for complex algorithms like XGB)."
   ]
  },
  {
   "cell_type": "markdown",
   "metadata": {},
   "source": [
    "# 5. Word embeddings <a id=\"section5\"></a>\n",
    "\n",
    "Word embeddings (or word vectors) are a **transformation of words into vectors** based on large language models. Two vectors will be similar when their respective words share a common background; for example, queen and king have similar components, while queen and table don't. I strongly recommend [Mat's Kaggle course](https://www.kaggle.com/matleonard/word-vectors) for more details.\n",
    "\n",
    "On the other hand, we will classify these vectors with  a **Support vector machine** (SVM). SVMs are machine learning algorithms that aim to find an hyperplane in a N-dimensional space, where N is the number of features, in order to classifiy data points into classes. SVM are both precise and fast when dealing with high dimensional datasets."
   ]
  },
  {
   "cell_type": "markdown",
   "metadata": {},
   "source": [
    "## 5.1. Word embeddings <a id=\"section51\"></a>\n",
    "\n",
    "To transform text into vectors we are going to use the spaCy library, that we previously used for the removal of stop-words. Notice that the word vector transformation is at the level of words, but in this project we are dealing with full sentences (tweets). To transform a whole text into a single vector, spaCy just computes the **average of all vectors (words) in a sentence to create the text vector**."
   ]
  },
  {
   "cell_type": "code",
   "execution_count": 24,
   "metadata": {},
   "outputs": [
    {
     "name": "stdout",
     "output_type": "stream",
     "text": [
      "Time spent:  99.90186953544617\n"
     ]
    }
   ],
   "source": [
    "ts = time.time()\n",
    "clean_data = pd.read_csv(\"/kaggle/input/disaster-tweets-comp-introduction-to-nlp/tweets_clean\")\n",
    "vectors = np.array([nlp(tweet.text).vector for idx, tweet in clean_data.iterrows()])\n",
    "vectors.shape\n",
    "print(\"Time spent: \", time.time() - ts)"
   ]
  },
  {
   "cell_type": "markdown",
   "metadata": {},
   "source": [
    "Another detail to consider is that **language texts from a certain topic frequently share a lot of common words**. Hence, the different sentence vectors may be very similar to each other. To fix this, it is useful to compute the mean of all vectors (i.e. the whole dataset vector) and substract it from them:"
   ]
  },
  {
   "cell_type": "code",
   "execution_count": 25,
   "metadata": {},
   "outputs": [
    {
     "name": "stdout",
     "output_type": "stream",
     "text": [
      "Center shape:  (10876, 300)\n"
     ]
    }
   ],
   "source": [
    "# Center the vectors\n",
    "vec_mean = vectors.mean(axis=0)\n",
    "centered = pd.DataFrame([vec - vec_mean for vec in vectors])\n",
    "print(\"Center shape: \", centered.shape)"
   ]
  },
  {
   "cell_type": "markdown",
   "metadata": {},
   "source": [
    "## 5.2. Linear SVC model <a id=\"section52\"></a>\n",
    "\n",
    "Finally, data is relatively clean and has been transformed into vectors. The only task remaining is to feed these data into the SVM model, train it and finally submit the results from the test dataset.\n",
    "\n",
    "We will use 80% of data for training and the remaining 20% to validate."
   ]
  },
  {
   "cell_type": "code",
   "execution_count": 26,
   "metadata": {},
   "outputs": [
    {
     "name": "stdout",
     "output_type": "stream",
     "text": [
      "Cross validation over 10 folds:  [0.78489327 0.79967159 0.7635468  0.77996716 0.7865353  0.80295567\n",
      " 0.7635468  0.83087028 0.77996716 0.79474548]  ---  0.7886699507389163\n",
      "Time spent:  10.491590976715088\n"
     ]
    }
   ],
   "source": [
    "ts = time.time()\n",
    "\n",
    "def svc_model(vectors, train):\n",
    "    # Split train-validation data\n",
    "    X_train, X_valid, y_train, y_valid = train_test_split(vectors[:len(train)], train.target, \n",
    "                                                          test_size=0.2, random_state=21)\n",
    "\n",
    "    # Create the LinearSVC model\n",
    "    model = LinearSVC(random_state=21, dual=False)\n",
    "    \n",
    "    # Fit the model\n",
    "    model.fit(X_train, y_train)\n",
    "    \n",
    "    # Cross validation score over 10 folds\n",
    "    scores = cross_val_score(model, X_train, y_train, cv=10)\n",
    "    print(\"Cross validation over 10 folds: \", scores, \" --- \", sum(scores)/10.)\n",
    "    \n",
    "    # Uncomment to see model accuracy\n",
    "    #print(f'Model test accuracy: {model.score(X_valid, y_valid)*100:.3f}%')\n",
    "    \n",
    "    return model\n",
    "\n",
    "model_svc_basic = svc_model(centered, train)\n",
    "print(\"Time spent: \", time.time() - ts)"
   ]
  },
  {
   "cell_type": "markdown",
   "metadata": {},
   "source": [
    "A reasonably good accuracy (around 79%) spending only 14 seconds for 10 cross validations folds and using cleaned data, not bad at all. Let's submit the prediction over test dataset in order to see how well performs our first model on the leaderboard, before we move to another section."
   ]
  },
  {
   "cell_type": "code",
   "execution_count": 27,
   "metadata": {},
   "outputs": [],
   "source": [
    "# Submit results\n",
    "\n",
    "y_test = model_svc_basic.predict(centered[-len(test):])\n",
    "submission = pd.DataFrame({\n",
    "    \"id\": test.id, \n",
    "    \"target\": y_test\n",
    "})\n",
    "submission.to_csv('submission_svc_basic.csv', index=False)"
   ]
  },
  {
   "cell_type": "markdown",
   "metadata": {},
   "source": [
    "Performance of the models for 10 cv folds:\n",
    "* **Logistic regression (TFIDF)**:  0.7763546798029556\n",
    "* **Naive Bayes (TFIDF)**:  0.6021346469622332\n",
    "* **SVC (TFIDF)**: 0.789655172413793\n",
    "* **KNN (TFIDF)**:  0.777175697865353\n",
    "* **Random forest (TFIDF)**: 0.7821018062397372\n",
    "* **XGBoost (TFIDF)**: 0.7819376026272578\n",
    "* **SVC (word embeddings)**: 0.7886699507389163"
   ]
  },
  {
   "cell_type": "code",
   "execution_count": 28,
   "metadata": {},
   "outputs": [
    {
     "name": "stdout",
     "output_type": "stream",
     "text": [
      "Cross validation over 10 folds:  [0.80623974 0.80295567 0.7816092  0.78981938 0.79146141 0.80788177\n",
      " 0.77668309 0.82101806 0.80131363 0.7816092 ]  ---  0.7960591133004927\n",
      "Time spent:  117.43390560150146\n"
     ]
    }
   ],
   "source": [
    "ts = time.time()\n",
    "clean_data = all_data\n",
    "vectors = np.array([nlp(tweet.text).vector for idx, tweet in clean_data.iterrows()])\n",
    "vec_mean = vectors.mean(axis=0)\n",
    "centered = pd.DataFrame([vec - vec_mean for vec in vectors])\n",
    "model_svc_basic = svc_model(centered, train)\n",
    "print(\"Time spent: \", time.time() - ts)"
   ]
  },
  {
   "cell_type": "markdown",
   "metadata": {},
   "source": [
    "Performance of the models for 10 cv folds:\n",
    "* **Logistic regression (TFIDF)**:  0.7763546798029556\n",
    "* **Naive Bayes (TFIDF)**:  0.6021346469622332\n",
    "* **SVC (TFIDF)**: 0.789655172413793\n",
    "* **KNN (TFIDF)**:  0.777175697865353\n",
    "* **Random forest (TFIDF)**: 0.7821018062397372\n",
    "* **XGBoost (TFIDF)**: 0.7819376026272578\n",
    "* **SVC (word embeddings)**: 0.7886699507389163\n",
    "* **SVC (word embeddings, no clean data)**: 0.7960591133004927"
   ]
  },
  {
   "cell_type": "markdown",
   "metadata": {},
   "source": [
    "# 6. Recurrent neural networks (RNN) <a id=\"section6\"></a>\n",
    "\n",
    "All our previous attempts to classify tweets have been based on different machine learning algorithms, but none of them considered the potential of deep learning. Both section 6 and 7 will cover this approach to analyze if it can obtain a better classification performance.\n",
    "\n",
    "Our first model is a recurrent neural network (RNN), in particular the so called **long-short term memory (LSTM)** model, a type of neural network that permits a bidirectional flow of information through layers. At some level, the idea is to **replicate the idea of a memory**, since previous segments of data may affect the following ones, hence helping the model to recognise patterns in the sentence. You cna find a clear and detailed exaplanation in [Colah's blog](https://colah.github.io/posts/2015-08-Understanding-LSTMs/) (maybe a bit outdated). "
   ]
  },
  {
   "cell_type": "code",
   "execution_count": 29,
   "metadata": {},
   "outputs": [],
   "source": [
    "# Read the file with no stop words\n",
    "clean_data = pd.read_csv(\"/kaggle/input/disaster-tweets-comp-introduction-to-nlp/tweets_clean\")"
   ]
  },
  {
   "cell_type": "code",
   "execution_count": 30,
   "metadata": {},
   "outputs": [],
   "source": [
    "# Example https://www.kaggle.com/reiinakano/basic-nlp-bag-of-words-tf-idf-word2vec-lstm\n",
    "\n",
    "text_lengths = [len(x.split()) for x in (clean_data['text'])]\n",
    "num_words = max(text_lengths)\n",
    "\n",
    "def model_RNN(num_words, embed_dim, lstm_out, clean_data, batch_size, eta, dropout, n_epochs): \n",
    "    \n",
    "    # Use the Keras tokenizer\n",
    "    tokenizer = Tokenizer(num_words=num_words)\n",
    "    tokenizer.fit_on_texts(clean_data['text'].values)\n",
    "\n",
    "    # Pad the data \n",
    "    X = tokenizer.texts_to_sequences(clean_data['text'].values)\n",
    "    X = pad_sequences(X, maxlen=num_words + 1)\n",
    "\n",
    "    # Split data\n",
    "    Y = pd.get_dummies(clean_data['target']).values\n",
    "    X_train, X_test, Y_train, Y_test = train_test_split(X, Y, test_size = 0.2, random_state = 21, stratify=Y)\n",
    "    \n",
    "    model = Sequential()\n",
    "    model.add(Embedding(num_words, embed_dim, input_length = X.shape[1]))\n",
    "    model.add(LSTM(lstm_out, recurrent_dropout=dropout, dropout=dropout))\n",
    "    model.add(Dense(2,activation='sigmoid'))\n",
    "    model.compile(loss = 'binary_crossentropy', optimizer=Adam(lr=eta), metrics = ['accuracy'])\n",
    "    model_history = model.fit(X_train, Y_train, epochs=n_epochs, batch_size=batch_size, validation_split=0.2, verbose=0)\n",
    "    \n",
    "    return model, model_history\n",
    "\n",
    "# Define RNN parameters\n",
    "embed_dim = 64\n",
    "lstm_out = 64 \n",
    "batch_size = 16\n",
    "eta = 0.001\n",
    "dropout = 0.5\n",
    "n_epochs = 20\n",
    "n_reps = 10\n",
    "\n",
    "#model_RNN_1, model_RNN_1_hist_rep = model_RNN(num_words, embed_dim, lstm_out, clean_data, batch_size, eta, dropout, n_epochs)"
   ]
  },
  {
   "cell_type": "code",
   "execution_count": 31,
   "metadata": {},
   "outputs": [
    {
     "name": "stdout",
     "output_type": "stream",
     "text": [
      "Repetition  0\n"
     ]
    },
    {
     "name": "stderr",
     "output_type": "stream",
     "text": [
      "/opt/conda/lib/python3.6/site-packages/tensorflow_core/python/framework/indexed_slices.py:433: UserWarning: Converting sparse IndexedSlices to a dense Tensor of unknown shape. This may consume a large amount of memory.\n",
      "  \"Converting sparse IndexedSlices to a dense Tensor of unknown shape. \"\n"
     ]
    },
    {
     "name": "stdout",
     "output_type": "stream",
     "text": [
      "Repetition  1\n"
     ]
    },
    {
     "name": "stderr",
     "output_type": "stream",
     "text": [
      "/opt/conda/lib/python3.6/site-packages/tensorflow_core/python/framework/indexed_slices.py:433: UserWarning: Converting sparse IndexedSlices to a dense Tensor of unknown shape. This may consume a large amount of memory.\n",
      "  \"Converting sparse IndexedSlices to a dense Tensor of unknown shape. \"\n"
     ]
    },
    {
     "name": "stdout",
     "output_type": "stream",
     "text": [
      "Repetition  2\n"
     ]
    },
    {
     "name": "stderr",
     "output_type": "stream",
     "text": [
      "/opt/conda/lib/python3.6/site-packages/tensorflow_core/python/framework/indexed_slices.py:433: UserWarning: Converting sparse IndexedSlices to a dense Tensor of unknown shape. This may consume a large amount of memory.\n",
      "  \"Converting sparse IndexedSlices to a dense Tensor of unknown shape. \"\n"
     ]
    },
    {
     "name": "stdout",
     "output_type": "stream",
     "text": [
      "Repetition  3\n"
     ]
    },
    {
     "name": "stderr",
     "output_type": "stream",
     "text": [
      "/opt/conda/lib/python3.6/site-packages/tensorflow_core/python/framework/indexed_slices.py:433: UserWarning: Converting sparse IndexedSlices to a dense Tensor of unknown shape. This may consume a large amount of memory.\n",
      "  \"Converting sparse IndexedSlices to a dense Tensor of unknown shape. \"\n"
     ]
    },
    {
     "name": "stdout",
     "output_type": "stream",
     "text": [
      "Repetition  4\n"
     ]
    },
    {
     "name": "stderr",
     "output_type": "stream",
     "text": [
      "/opt/conda/lib/python3.6/site-packages/tensorflow_core/python/framework/indexed_slices.py:433: UserWarning: Converting sparse IndexedSlices to a dense Tensor of unknown shape. This may consume a large amount of memory.\n",
      "  \"Converting sparse IndexedSlices to a dense Tensor of unknown shape. \"\n"
     ]
    },
    {
     "name": "stdout",
     "output_type": "stream",
     "text": [
      "Repetition  5\n"
     ]
    },
    {
     "name": "stderr",
     "output_type": "stream",
     "text": [
      "/opt/conda/lib/python3.6/site-packages/tensorflow_core/python/framework/indexed_slices.py:433: UserWarning: Converting sparse IndexedSlices to a dense Tensor of unknown shape. This may consume a large amount of memory.\n",
      "  \"Converting sparse IndexedSlices to a dense Tensor of unknown shape. \"\n"
     ]
    },
    {
     "name": "stdout",
     "output_type": "stream",
     "text": [
      "Repetition  6\n"
     ]
    },
    {
     "name": "stderr",
     "output_type": "stream",
     "text": [
      "/opt/conda/lib/python3.6/site-packages/tensorflow_core/python/framework/indexed_slices.py:433: UserWarning: Converting sparse IndexedSlices to a dense Tensor of unknown shape. This may consume a large amount of memory.\n",
      "  \"Converting sparse IndexedSlices to a dense Tensor of unknown shape. \"\n"
     ]
    },
    {
     "name": "stdout",
     "output_type": "stream",
     "text": [
      "Repetition  7\n"
     ]
    },
    {
     "name": "stderr",
     "output_type": "stream",
     "text": [
      "/opt/conda/lib/python3.6/site-packages/tensorflow_core/python/framework/indexed_slices.py:433: UserWarning: Converting sparse IndexedSlices to a dense Tensor of unknown shape. This may consume a large amount of memory.\n",
      "  \"Converting sparse IndexedSlices to a dense Tensor of unknown shape. \"\n"
     ]
    },
    {
     "name": "stdout",
     "output_type": "stream",
     "text": [
      "Repetition  8\n"
     ]
    },
    {
     "name": "stderr",
     "output_type": "stream",
     "text": [
      "/opt/conda/lib/python3.6/site-packages/tensorflow_core/python/framework/indexed_slices.py:433: UserWarning: Converting sparse IndexedSlices to a dense Tensor of unknown shape. This may consume a large amount of memory.\n",
      "  \"Converting sparse IndexedSlices to a dense Tensor of unknown shape. \"\n"
     ]
    },
    {
     "name": "stdout",
     "output_type": "stream",
     "text": [
      "Repetition  9\n"
     ]
    },
    {
     "name": "stderr",
     "output_type": "stream",
     "text": [
      "/opt/conda/lib/python3.6/site-packages/tensorflow_core/python/framework/indexed_slices.py:433: UserWarning: Converting sparse IndexedSlices to a dense Tensor of unknown shape. This may consume a large amount of memory.\n",
      "  \"Converting sparse IndexedSlices to a dense Tensor of unknown shape. \"\n"
     ]
    }
   ],
   "source": [
    "model_RNN_1_hist = [0]*n_epochs\n",
    "\n",
    "for rep in range(n_reps):\n",
    "    print(\"Repetition \", rep)\n",
    "    model_RNN_1, model_RNN_1_hist_rep = model_RNN(num_words, embed_dim, lstm_out, clean_data, batch_size, eta, 0.2, n_epochs)\n",
    "    model_RNN_1_hist = tuple(map(operator.add, model_RNN_1_hist, model_RNN_1_hist_rep.history['val_accuracy']))\n",
    "    \n",
    "model_RNN_1_hist = [x/n_reps for x in list(model_RNN_1_hist)] "
   ]
  },
  {
   "cell_type": "code",
   "execution_count": 32,
   "metadata": {},
   "outputs": [
    {
     "ename": "SyntaxError",
     "evalue": "invalid syntax (<ipython-input-32-a3e38492296f>, line 2)",
     "output_type": "error",
     "traceback": [
      "\u001b[0;36m  File \u001b[0;32m\"<ipython-input-32-a3e38492296f>\"\u001b[0;36m, line \u001b[0;32m2\u001b[0m\n\u001b[0;31m    plt.xlabel(\"Epochs\")\u001b[0m\n\u001b[0m      ^\u001b[0m\n\u001b[0;31mSyntaxError\u001b[0m\u001b[0;31m:\u001b[0m invalid syntax\n"
     ]
    }
   ],
   "source": [
    "plt.plot(model_RNN_1_hist\n",
    "plt.xlabel(\"Epochs\")\n",
    "plt.ylabel(\"Val_accuracy\")\n",
    "plt.xlim(0,20)"
   ]
  },
  {
   "cell_type": "code",
   "execution_count": 33,
   "metadata": {
    "_kg_hide-input": true,
    "_kg_hide-output": true
   },
   "outputs": [
    {
     "ename": "NameError",
     "evalue": "name 'tokenizer' is not defined",
     "output_type": "error",
     "traceback": [
      "\u001b[0;31m---------------------------------------------------------------------------\u001b[0m",
      "\u001b[0;31mNameError\u001b[0m                                 Traceback (most recent call last)",
      "\u001b[0;32m<ipython-input-33-dd0db4e99a58>\u001b[0m in \u001b[0;36m<module>\u001b[0;34m\u001b[0m\n\u001b[0;32m----> 1\u001b[0;31m \u001b[0mXtest\u001b[0m \u001b[0;34m=\u001b[0m \u001b[0mtokenizer\u001b[0m\u001b[0;34m.\u001b[0m\u001b[0mtexts_to_sequences\u001b[0m\u001b[0;34m(\u001b[0m\u001b[0mclean_data\u001b[0m\u001b[0;34m[\u001b[0m\u001b[0;34m-\u001b[0m\u001b[0mlen\u001b[0m\u001b[0;34m(\u001b[0m\u001b[0mtrain\u001b[0m\u001b[0;34m)\u001b[0m\u001b[0;34m:\u001b[0m\u001b[0;34m]\u001b[0m\u001b[0;34m[\u001b[0m\u001b[0;34m'text'\u001b[0m\u001b[0;34m]\u001b[0m\u001b[0;34m.\u001b[0m\u001b[0mvalues\u001b[0m\u001b[0;34m)\u001b[0m\u001b[0;34m\u001b[0m\u001b[0m\n\u001b[0m\u001b[1;32m      2\u001b[0m \u001b[0mXtest\u001b[0m \u001b[0;34m=\u001b[0m \u001b[0mpad_sequences\u001b[0m\u001b[0;34m(\u001b[0m\u001b[0mXtest\u001b[0m\u001b[0;34m,\u001b[0m \u001b[0mmaxlen\u001b[0m\u001b[0;34m=\u001b[0m\u001b[0mnum_words\u001b[0m \u001b[0;34m+\u001b[0m \u001b[0;36m1\u001b[0m\u001b[0;34m)\u001b[0m\u001b[0;34m\u001b[0m\u001b[0m\n\u001b[1;32m      3\u001b[0m \u001b[0;34m\u001b[0m\u001b[0m\n\u001b[1;32m      4\u001b[0m \u001b[0mRNN\u001b[0m \u001b[0;34m=\u001b[0m \u001b[0mmodel\u001b[0m\u001b[0;34m.\u001b[0m\u001b[0mpredict\u001b[0m\u001b[0;34m(\u001b[0m\u001b[0mXtest\u001b[0m\u001b[0;34m)\u001b[0m\u001b[0;34m\u001b[0m\u001b[0m\n\u001b[1;32m      5\u001b[0m \u001b[0;34m\u001b[0m\u001b[0m\n",
      "\u001b[0;31mNameError\u001b[0m: name 'tokenizer' is not defined"
     ]
    }
   ],
   "source": [
    "Xtest = tokenizer.texts_to_sequences(clean_data[-len(train):]['text'].values)\n",
    "Xtest = pad_sequences(Xtest, maxlen=num_words + 1)\n",
    "\n",
    "RNN = model.predict(Xtest)\n",
    "\n",
    "y_test = model.predict(Xtest)\n",
    "y_test = np.argmax(y_test,axis = 1)\n",
    "\n",
    "submission = pd.DataFrame({\n",
    "    \"id\": test.id, \n",
    "    \"target\": y_test\n",
    "})\n",
    "submission.to_csv('submission_lstm.csv', index=False)"
   ]
  }
 ],
 "metadata": {
  "kernelspec": {
   "display_name": "Python 3 (ipykernel)",
   "language": "python",
   "name": "python3"
  },
  "language_info": {
   "codemirror_mode": {
    "name": "ipython",
    "version": 3
   },
   "file_extension": ".py",
   "mimetype": "text/x-python",
   "name": "python",
   "nbconvert_exporter": "python",
   "pygments_lexer": "ipython3",
   "version": "3.9.7"
  }
 },
 "nbformat": 4,
 "nbformat_minor": 4
}
