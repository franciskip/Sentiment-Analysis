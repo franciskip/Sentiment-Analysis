{
 "cells": [
  {
   "cell_type": "code",
   "execution_count": 8,
   "id": "30533c93",
   "metadata": {},
   "outputs": [],
   "source": [
    "import pandas as pd\n",
    "import nltk"
   ]
  },
  {
   "cell_type": "code",
   "execution_count": 11,
   "id": "b5ba4428",
   "metadata": {},
   "outputs": [
    {
     "data": {
      "text/plain": [
       "Index(['id', 'keyword', 'location', 'text', 'target'], dtype='object')"
      ]
     },
     "execution_count": 11,
     "metadata": {},
     "output_type": "execute_result"
    }
   ],
   "source": [
    "df=pd.read_csv('sentiment_nlp (1).csv')\n",
    "df.columns"
   ]
  },
  {
   "cell_type": "code",
   "execution_count": 12,
   "id": "22109534",
   "metadata": {},
   "outputs": [
    {
     "data": {
      "text/html": [
       "<div>\n",
       "<style scoped>\n",
       "    .dataframe tbody tr th:only-of-type {\n",
       "        vertical-align: middle;\n",
       "    }\n",
       "\n",
       "    .dataframe tbody tr th {\n",
       "        vertical-align: top;\n",
       "    }\n",
       "\n",
       "    .dataframe thead th {\n",
       "        text-align: right;\n",
       "    }\n",
       "</style>\n",
       "<table border=\"1\" class=\"dataframe\">\n",
       "  <thead>\n",
       "    <tr style=\"text-align: right;\">\n",
       "      <th></th>\n",
       "      <th>text</th>\n",
       "      <th>target</th>\n",
       "    </tr>\n",
       "  </thead>\n",
       "  <tbody>\n",
       "    <tr>\n",
       "      <th>0</th>\n",
       "      <td>Our Deeds are the Reason of this #earthquake M...</td>\n",
       "      <td>1</td>\n",
       "    </tr>\n",
       "    <tr>\n",
       "      <th>1</th>\n",
       "      <td>Forest fire near La Ronge Sask. Canada</td>\n",
       "      <td>1</td>\n",
       "    </tr>\n",
       "    <tr>\n",
       "      <th>2</th>\n",
       "      <td>All residents asked to 'shelter in place' are ...</td>\n",
       "      <td>1</td>\n",
       "    </tr>\n",
       "    <tr>\n",
       "      <th>3</th>\n",
       "      <td>13,000 people receive #wildfires evacuation or...</td>\n",
       "      <td>1</td>\n",
       "    </tr>\n",
       "    <tr>\n",
       "      <th>4</th>\n",
       "      <td>Just got sent this photo from Ruby #Alaska as ...</td>\n",
       "      <td>1</td>\n",
       "    </tr>\n",
       "  </tbody>\n",
       "</table>\n",
       "</div>"
      ],
      "text/plain": [
       "                                                text  target\n",
       "0  Our Deeds are the Reason of this #earthquake M...       1\n",
       "1             Forest fire near La Ronge Sask. Canada       1\n",
       "2  All residents asked to 'shelter in place' are ...       1\n",
       "3  13,000 people receive #wildfires evacuation or...       1\n",
       "4  Just got sent this photo from Ruby #Alaska as ...       1"
      ]
     },
     "execution_count": 12,
     "metadata": {},
     "output_type": "execute_result"
    }
   ],
   "source": [
    "data=df[['text', 'target']]\n",
    "data.head()"
   ]
  },
  {
   "cell_type": "code",
   "execution_count": 13,
   "id": "2863170c",
   "metadata": {},
   "outputs": [
    {
     "data": {
      "text/plain": [
       "0    4342\n",
       "1    3271\n",
       "Name: target, dtype: int64"
      ]
     },
     "execution_count": 13,
     "metadata": {},
     "output_type": "execute_result"
    }
   ],
   "source": [
    "data.target.value_counts()"
   ]
  },
  {
   "cell_type": "code",
   "execution_count": null,
   "id": "11a6a55b",
   "metadata": {},
   "outputs": [],
   "source": []
  },
  {
   "cell_type": "markdown",
   "id": "fa3163dc",
   "metadata": {},
   "source": [
    "## Data Cleaning"
   ]
  },
  {
   "cell_type": "code",
   "execution_count": 14,
   "id": "6213cb8a",
   "metadata": {},
   "outputs": [
    {
     "data": {
      "text/plain": [
       "text      object\n",
       "target     int64\n",
       "dtype: object"
      ]
     },
     "execution_count": 14,
     "metadata": {},
     "output_type": "execute_result"
    }
   ],
   "source": [
    "data.dtypes"
   ]
  },
  {
   "cell_type": "markdown",
   "id": "a4d68d95",
   "metadata": {},
   "source": [
    "## Feature Generation"
   ]
  },
  {
   "cell_type": "markdown",
   "id": "74ab79d9",
   "metadata": {},
   "source": [
    "## BoW Bag of Words Model"
   ]
  },
  {
   "cell_type": "code",
   "execution_count": 15,
   "id": "604fb7e5",
   "metadata": {},
   "outputs": [],
   "source": [
    "from sklearn.feature_extraction.text import CountVectorizer\n",
    "from nltk.tokenize import RegexpTokenizer"
   ]
  },
  {
   "cell_type": "code",
   "execution_count": 19,
   "id": "03ba304b",
   "metadata": {},
   "outputs": [
    {
     "data": {
      "text/plain": [
       "<7613x21295 sparse matrix of type '<class 'numpy.int64'>'\n",
       "\twith 80841 stored elements in Compressed Sparse Row format>"
      ]
     },
     "execution_count": 19,
     "metadata": {},
     "output_type": "execute_result"
    }
   ],
   "source": [
    "#tokenizer to remove unwanted elements from out data like symbols and numbers\n",
    "tk = RegexpTokenizer(r'[a-zA-Z0-9]+')\n",
    "cv = CountVectorizer(lowercase=True,stop_words='english',ngram_range = (1,1),tokenizer = tk.tokenize)\n",
    "text_counts= cv.fit_transform(data['text'])\n",
    "text_counts"
   ]
  },
  {
   "cell_type": "code",
   "execution_count": 17,
   "id": "16bd0972",
   "metadata": {},
   "outputs": [],
   "source": [
    "from sklearn.model_selection import train_test_split"
   ]
  },
  {
   "cell_type": "code",
   "execution_count": 20,
   "id": "31f8f323",
   "metadata": {},
   "outputs": [],
   "source": [
    "x_train,x_test,y_train, y_test=train_test_split(text_counts,data.target, test_size=0.2)"
   ]
  },
  {
   "cell_type": "code",
   "execution_count": 21,
   "id": "91f7ebfa",
   "metadata": {},
   "outputs": [],
   "source": [
    "from sklearn.linear_model import LogisticRegression\n",
    "from sklearn.metrics import accuracy_score, recall_score, precision_score, f1_score"
   ]
  },
  {
   "cell_type": "code",
   "execution_count": 22,
   "id": "a5d2a674",
   "metadata": {},
   "outputs": [],
   "source": [
    "lg=LogisticRegression()"
   ]
  },
  {
   "cell_type": "code",
   "execution_count": 23,
   "id": "d27214b5",
   "metadata": {},
   "outputs": [
    {
     "data": {
      "text/plain": [
       "LogisticRegression()"
      ]
     },
     "execution_count": 23,
     "metadata": {},
     "output_type": "execute_result"
    }
   ],
   "source": [
    "lg.fit(x_train,y_train)"
   ]
  },
  {
   "cell_type": "code",
   "execution_count": 24,
   "id": "171798dc",
   "metadata": {},
   "outputs": [],
   "source": [
    "y_pred=lg.predict(x_test)"
   ]
  },
  {
   "cell_type": "code",
   "execution_count": 25,
   "id": "1a014de2",
   "metadata": {},
   "outputs": [
    {
     "data": {
      "text/plain": [
       "0.7977675640183848"
      ]
     },
     "execution_count": 25,
     "metadata": {},
     "output_type": "execute_result"
    }
   ],
   "source": [
    "accuracy_score(y_test,y_pred)"
   ]
  },
  {
   "cell_type": "code",
   "execution_count": 26,
   "id": "8c008a3d",
   "metadata": {},
   "outputs": [
    {
     "data": {
      "text/plain": [
       "0.7004608294930875"
      ]
     },
     "execution_count": 26,
     "metadata": {},
     "output_type": "execute_result"
    }
   ],
   "source": [
    "recall_score(y_test,y_pred)"
   ]
  },
  {
   "cell_type": "code",
   "execution_count": 27,
   "id": "1bb4f255",
   "metadata": {},
   "outputs": [
    {
     "data": {
      "text/plain": [
       "0.7475409836065573"
      ]
     },
     "execution_count": 27,
     "metadata": {},
     "output_type": "execute_result"
    }
   ],
   "source": [
    "f1_score(y_test,y_pred)"
   ]
  },
  {
   "cell_type": "code",
   "execution_count": 17,
   "id": "0498c764",
   "metadata": {},
   "outputs": [],
   "source": [
    "from sklearn.naive_bayes import MultinomialNB"
   ]
  },
  {
   "cell_type": "code",
   "execution_count": 18,
   "id": "b6d98ee7",
   "metadata": {},
   "outputs": [],
   "source": [
    "nb=MultinomialNB()"
   ]
  },
  {
   "cell_type": "code",
   "execution_count": 19,
   "id": "27438826",
   "metadata": {},
   "outputs": [
    {
     "data": {
      "text/plain": [
       "MultinomialNB()"
      ]
     },
     "execution_count": 19,
     "metadata": {},
     "output_type": "execute_result"
    }
   ],
   "source": [
    "nb.fit(x_train,y_train)"
   ]
  },
  {
   "cell_type": "code",
   "execution_count": 20,
   "id": "0dd1a2fb",
   "metadata": {},
   "outputs": [
    {
     "data": {
      "text/plain": [
       "array([1, 0, 0, ..., 0, 1, 0], dtype=int64)"
      ]
     },
     "execution_count": 20,
     "metadata": {},
     "output_type": "execute_result"
    }
   ],
   "source": [
    "ypred=nb.predict(x_test)\n",
    "ypred"
   ]
  },
  {
   "cell_type": "code",
   "execution_count": 21,
   "id": "ec78b352",
   "metadata": {},
   "outputs": [
    {
     "data": {
      "text/plain": [
       "0.7905449770190414"
      ]
     },
     "execution_count": 21,
     "metadata": {},
     "output_type": "execute_result"
    }
   ],
   "source": [
    "accuracy_score(y_test,ypred)"
   ]
  },
  {
   "cell_type": "code",
   "execution_count": 22,
   "id": "40609759",
   "metadata": {},
   "outputs": [
    {
     "data": {
      "text/plain": [
       "0.7740916271721959"
      ]
     },
     "execution_count": 22,
     "metadata": {},
     "output_type": "execute_result"
    }
   ],
   "source": [
    "recall_score(y_test,ypred)"
   ]
  },
  {
   "cell_type": "markdown",
   "id": "3624f37e",
   "metadata": {},
   "source": [
    "### Random forest, Adaboost, Gradient Boost and extra tree classifier"
   ]
  },
  {
   "cell_type": "code",
   "execution_count": 23,
   "id": "c56409af",
   "metadata": {},
   "outputs": [],
   "source": [
    "from sklearn.feature_extraction.text import TfidfVectorizer"
   ]
  },
  {
   "cell_type": "code",
   "execution_count": 24,
   "id": "66ab593d",
   "metadata": {},
   "outputs": [],
   "source": [
    "tfd=TfidfVectorizer()\n",
    "tfdata=tfd.fit_transform(data['text'])"
   ]
  },
  {
   "cell_type": "code",
   "execution_count": 91,
   "id": "feb8c6b8",
   "metadata": {},
   "outputs": [],
   "source": [
    "x_train,x_test,y_train, y_test=train_test_split(tfdata,data.target, test_size=0.1)"
   ]
  },
  {
   "cell_type": "code",
   "execution_count": 92,
   "id": "7b9cabfa",
   "metadata": {},
   "outputs": [
    {
     "data": {
      "text/plain": [
       "MultinomialNB()"
      ]
     },
     "execution_count": 92,
     "metadata": {},
     "output_type": "execute_result"
    }
   ],
   "source": [
    "nb=MultinomialNB()\n",
    "nb.fit(x_train,y_train)"
   ]
  },
  {
   "cell_type": "code",
   "execution_count": 93,
   "id": "2b2a33a6",
   "metadata": {},
   "outputs": [],
   "source": [
    "npred=nb.predict(x_test)\n"
   ]
  },
  {
   "cell_type": "code",
   "execution_count": 94,
   "id": "fc75e593",
   "metadata": {},
   "outputs": [
    {
     "data": {
      "text/plain": [
       "0.8162729658792651"
      ]
     },
     "execution_count": 94,
     "metadata": {},
     "output_type": "execute_result"
    }
   ],
   "source": [
    "accuracy_score(y_test,npred)"
   ]
  },
  {
   "cell_type": "code",
   "execution_count": 95,
   "id": "820df69d",
   "metadata": {},
   "outputs": [
    {
     "data": {
      "text/plain": [
       "0.6572327044025157"
      ]
     },
     "execution_count": 95,
     "metadata": {},
     "output_type": "execute_result"
    }
   ],
   "source": [
    "recall_score(y_test,npred)"
   ]
  },
  {
   "cell_type": "code",
   "execution_count": 96,
   "id": "a2fbc11f",
   "metadata": {},
   "outputs": [
    {
     "data": {
      "text/plain": [
       "<function sklearn.metrics._classification.precision_score(y_true, y_pred, *, labels=None, pos_label=1, average='binary', sample_weight=None, zero_division='warn')>"
      ]
     },
     "execution_count": 96,
     "metadata": {},
     "output_type": "execute_result"
    }
   ],
   "source": [
    "precision_score"
   ]
  },
  {
   "cell_type": "code",
   "execution_count": 97,
   "id": "e9fc1e16",
   "metadata": {},
   "outputs": [],
   "source": [
    "from sklearn.ensemble import RandomForestClassifier\n",
    "from sklearn.model_selection import GridSearchCV"
   ]
  },
  {
   "cell_type": "code",
   "execution_count": 98,
   "id": "d1809d10",
   "metadata": {},
   "outputs": [],
   "source": [
    "rf=RandomForestClassifier(random_state=2)"
   ]
  },
  {
   "cell_type": "code",
   "execution_count": 99,
   "id": "965b9c82",
   "metadata": {},
   "outputs": [
    {
     "data": {
      "text/plain": [
       "RandomForestClassifier(random_state=2)"
      ]
     },
     "execution_count": 99,
     "metadata": {},
     "output_type": "execute_result"
    }
   ],
   "source": [
    "rf.fit(x_train,y_train)\n"
   ]
  },
  {
   "cell_type": "code",
   "execution_count": 100,
   "id": "ca99d4f2",
   "metadata": {},
   "outputs": [],
   "source": [
    "rpred=rf.predict(x_test)"
   ]
  },
  {
   "cell_type": "code",
   "execution_count": 101,
   "id": "b3d889ea",
   "metadata": {},
   "outputs": [
    {
     "data": {
      "text/plain": [
       "0.6132075471698113"
      ]
     },
     "execution_count": 101,
     "metadata": {},
     "output_type": "execute_result"
    }
   ],
   "source": [
    "recall_score(y_test,rpred)"
   ]
  },
  {
   "cell_type": "markdown",
   "id": "12d352cc",
   "metadata": {},
   "source": [
    "#### Gridsearch Poor results"
   ]
  },
  {
   "cell_type": "code",
   "execution_count": 102,
   "id": "c4c6b4c2",
   "metadata": {},
   "outputs": [],
   "source": [
    "max_depth=[4, 5, 6]\n",
    "n_estimators = [100, 200, 300]\n",
    "param_grid = dict(max_depth=max_depth, n_estimators=n_estimators)\n",
    "\n",
    "# Build the grid search\n",
    "dfrst = RandomForestClassifier(n_estimators=n_estimators, max_depth=max_depth,random_state=42)\n",
    "grid = GridSearchCV(estimator=dfrst, param_grid=param_grid, cv = 5)\n",
    "grid_results = grid.fit(x_train, y_train)\n"
   ]
  },
  {
   "cell_type": "code",
   "execution_count": 103,
   "id": "ad6d6c4f",
   "metadata": {},
   "outputs": [
    {
     "data": {
      "text/plain": [
       "RandomForestClassifier(max_depth=6, random_state=42)"
      ]
     },
     "execution_count": 103,
     "metadata": {},
     "output_type": "execute_result"
    }
   ],
   "source": [
    "grid.best_estimator_"
   ]
  },
  {
   "cell_type": "code",
   "execution_count": 104,
   "id": "514fd199",
   "metadata": {},
   "outputs": [
    {
     "data": {
      "text/plain": [
       "RandomForestClassifier(max_depth=16, n_estimators=64, random_state=2)"
      ]
     },
     "execution_count": 104,
     "metadata": {},
     "output_type": "execute_result"
    }
   ],
   "source": [
    "grf=RandomForestClassifier(max_depth=16, n_estimators=64, random_state=2)\n",
    "grf.fit(x_train,y_train)\n"
   ]
  },
  {
   "cell_type": "code",
   "execution_count": 105,
   "id": "709ad7a8",
   "metadata": {},
   "outputs": [],
   "source": [
    "grpred=grf.predict(x_test)"
   ]
  },
  {
   "cell_type": "code",
   "execution_count": 106,
   "id": "75a805e8",
   "metadata": {},
   "outputs": [
    {
     "data": {
      "text/plain": [
       "0.29874213836477986"
      ]
     },
     "execution_count": 106,
     "metadata": {},
     "output_type": "execute_result"
    }
   ],
   "source": [
    "recall_score(y_test,grpred)"
   ]
  },
  {
   "cell_type": "markdown",
   "id": "e3b1151b",
   "metadata": {},
   "source": [
    "### Gridsearch 2"
   ]
  },
  {
   "cell_type": "code",
   "execution_count": 63,
   "id": "c981374f",
   "metadata": {},
   "outputs": [],
   "source": [
    "rfc=RandomForestClassifier(random_state=42)"
   ]
  },
  {
   "cell_type": "code",
   "execution_count": 64,
   "id": "aabd7d57",
   "metadata": {},
   "outputs": [],
   "source": [
    "param_grid = { \n",
    "    'n_estimators': [200, 500],\n",
    "    'max_features': ['auto', 'sqrt', 'log2'],\n",
    "    'max_depth' : [4,5,6,7,8],\n",
    "    'criterion' :['gini', 'entropy']\n",
    "}"
   ]
  },
  {
   "cell_type": "code",
   "execution_count": 65,
   "id": "cb36b8a6",
   "metadata": {},
   "outputs": [
    {
     "data": {
      "text/plain": [
       "GridSearchCV(cv=5, estimator=RandomForestClassifier(random_state=42),\n",
       "             param_grid={'criterion': ['gini', 'entropy'],\n",
       "                         'max_depth': [4, 5, 6, 7, 8],\n",
       "                         'max_features': ['auto', 'sqrt', 'log2'],\n",
       "                         'n_estimators': [200, 500]})"
      ]
     },
     "execution_count": 65,
     "metadata": {},
     "output_type": "execute_result"
    }
   ],
   "source": [
    "CV_rfc = GridSearchCV(estimator=rfc, param_grid=param_grid, cv= 5)\n",
    "CV_rfc.fit(x_train, y_train)"
   ]
  },
  {
   "cell_type": "code",
   "execution_count": 66,
   "id": "701be228",
   "metadata": {},
   "outputs": [
    {
     "data": {
      "text/plain": [
       "{'criterion': 'gini',\n",
       " 'max_depth': 8,\n",
       " 'max_features': 'auto',\n",
       " 'n_estimators': 500}"
      ]
     },
     "execution_count": 66,
     "metadata": {},
     "output_type": "execute_result"
    }
   ],
   "source": [
    "CV_rfc.best_params_\n"
   ]
  },
  {
   "cell_type": "code",
   "execution_count": 68,
   "id": "cbb56cb3",
   "metadata": {},
   "outputs": [
    {
     "data": {
      "text/plain": [
       "RandomForestClassifier(max_depth=8, n_estimators=500, random_state=42)"
      ]
     },
     "execution_count": 68,
     "metadata": {},
     "output_type": "execute_result"
    }
   ],
   "source": [
    "CV_rfc.best_estimator_"
   ]
  },
  {
   "cell_type": "code",
   "execution_count": 75,
   "id": "e76ec296",
   "metadata": {},
   "outputs": [],
   "source": [
    "rfc1=RandomForestClassifier(max_depth=4, n_estimators=100, random_state=2, criterion='gini')"
   ]
  },
  {
   "cell_type": "code",
   "execution_count": 76,
   "id": "1421a20d",
   "metadata": {},
   "outputs": [
    {
     "data": {
      "text/plain": [
       "RandomForestClassifier(max_depth=4, random_state=2)"
      ]
     },
     "execution_count": 76,
     "metadata": {},
     "output_type": "execute_result"
    }
   ],
   "source": [
    "rfc1.fit(x_train, y_train)"
   ]
  },
  {
   "cell_type": "code",
   "execution_count": 77,
   "id": "555f7230",
   "metadata": {},
   "outputs": [
    {
     "data": {
      "text/plain": [
       "0.040419161676646706"
      ]
     },
     "execution_count": 77,
     "metadata": {},
     "output_type": "execute_result"
    }
   ],
   "source": [
    "rpr=rfc1.predict(x_test)\n",
    "recall_score(y_test,rpr)"
   ]
  },
  {
   "cell_type": "markdown",
   "id": "cd7f4826",
   "metadata": {},
   "source": [
    "## DecisionTreeClassifier"
   ]
  },
  {
   "cell_type": "code",
   "execution_count": 90,
   "id": "efb41aa7",
   "metadata": {},
   "outputs": [],
   "source": [
    "from sklearn.tree import DecisionTreeClassifier"
   ]
  },
  {
   "cell_type": "code",
   "execution_count": 108,
   "id": "1283c649",
   "metadata": {},
   "outputs": [],
   "source": [
    "param_dist = {\"max_depth\": [2,3,4,5, 6], \"max_features\": [1,3,4,5,7,8,9], \"min_samples_leaf\": [1,3,4,5,6,7],\"criterion\": [\"gini\", \"entropy\"]}"
   ]
  },
  {
   "cell_type": "code",
   "execution_count": 110,
   "id": "4408361d",
   "metadata": {},
   "outputs": [
    {
     "data": {
      "text/plain": [
       "GridSearchCV(cv=10, estimator=DecisionTreeClassifier(),\n",
       "             param_grid={'criterion': ['gini', 'entropy'],\n",
       "                         'max_depth': [2, 3, 4, 5, 6],\n",
       "                         'max_features': [1, 3, 4, 5, 7, 8, 9],\n",
       "                         'min_samples_leaf': [1, 3, 4, 5, 6, 7]})"
      ]
     },
     "execution_count": 110,
     "metadata": {},
     "output_type": "execute_result"
    }
   ],
   "source": [
    "dt = DecisionTreeClassifier()\n",
    "tree_cv = GridSearchCV(dt, param_dist, cv = 10)\n",
    "tree_cv.fit(x_train, y_train)"
   ]
  },
  {
   "cell_type": "code",
   "execution_count": 113,
   "id": "7ad92c68",
   "metadata": {},
   "outputs": [
    {
     "data": {
      "text/plain": [
       "0.018867924528301886"
      ]
     },
     "execution_count": 113,
     "metadata": {},
     "output_type": "execute_result"
    }
   ],
   "source": [
    "tpred=tree_cv.predict(x_test)\n",
    "recall_score(y_test,tpred)"
   ]
  },
  {
   "cell_type": "code",
   "execution_count": 111,
   "id": "4336e36b",
   "metadata": {},
   "outputs": [
    {
     "data": {
      "text/plain": [
       "DecisionTreeClassifier(criterion='entropy', max_depth=6, max_features=9,\n",
       "                       min_samples_leaf=6)"
      ]
     },
     "execution_count": 111,
     "metadata": {},
     "output_type": "execute_result"
    }
   ],
   "source": [
    "tree_cv.best_estimator_"
   ]
  },
  {
   "cell_type": "code",
   "execution_count": 117,
   "id": "575e056a",
   "metadata": {},
   "outputs": [
    {
     "data": {
      "text/plain": [
       "DecisionTreeClassifier()"
      ]
     },
     "execution_count": 117,
     "metadata": {},
     "output_type": "execute_result"
    }
   ],
   "source": [
    "dt=DecisionTreeClassifier()\n",
    "dt.fit(x_train, y_train)"
   ]
  },
  {
   "cell_type": "code",
   "execution_count": 118,
   "id": "9da116b9",
   "metadata": {},
   "outputs": [
    {
     "data": {
      "text/plain": [
       "0.6446540880503144"
      ]
     },
     "execution_count": 118,
     "metadata": {},
     "output_type": "execute_result"
    }
   ],
   "source": [
    "tpred=dt.predict(x_test)\n",
    "recall_score(y_test,tpred)"
   ]
  },
  {
   "cell_type": "markdown",
   "id": "b9049d2a",
   "metadata": {},
   "source": [
    "## Use GridSearch to check  the perfomance of AdaBoost, Gradient Boost and XGboost before and after hyperameter tuning"
   ]
  },
  {
   "cell_type": "code",
   "execution_count": null,
   "id": "b072016e",
   "metadata": {},
   "outputs": [],
   "source": []
  }
 ],
 "metadata": {
  "kernelspec": {
   "display_name": "Python 3 (ipykernel)",
   "language": "python",
   "name": "python3"
  },
  "language_info": {
   "codemirror_mode": {
    "name": "ipython",
    "version": 3
   },
   "file_extension": ".py",
   "mimetype": "text/x-python",
   "name": "python",
   "nbconvert_exporter": "python",
   "pygments_lexer": "ipython3",
   "version": "3.9.7"
  }
 },
 "nbformat": 4,
 "nbformat_minor": 5
}
